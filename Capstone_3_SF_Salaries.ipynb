{
  "nbformat": 4,
  "nbformat_minor": 0,
  "metadata": {
    "colab": {
      "name": "Capstone 3 SF Salaries.ipynb",
      "provenance": []
    },
    "kernelspec": {
      "name": "python3",
      "display_name": "Python 3"
    },
    "language_info": {
      "name": "python"
    }
  },
  "cells": [
    {
      "cell_type": "code",
      "metadata": {
        "colab": {
          "base_uri": "https://localhost:8080/"
        },
        "id": "2Yx9ZUauP1BQ",
        "outputId": "2b6ad915-c8f1-41cb-fd7d-60b6f41a1d3b"
      },
      "source": [
        "from google.colab import drive\n",
        "drive.mount('/content/drive')"
      ],
      "execution_count": null,
      "outputs": [
        {
          "output_type": "stream",
          "text": [
            "Drive already mounted at /content/drive; to attempt to forcibly remount, call drive.mount(\"/content/drive\", force_remount=True).\n"
          ],
          "name": "stdout"
        }
      ]
    },
    {
      "cell_type": "code",
      "metadata": {
        "colab": {
          "base_uri": "https://localhost:8080/"
        },
        "id": "TD-R-EZmHI2g",
        "outputId": "804726b6-1fca-46b6-f323-f08b0e7664fc"
      },
      "source": [
        "data_path = '/content/drive/MyDrive/Thinkful/Capstone 3/archive/Salaries.csv'\n",
        "import pandas as pd\n",
        "from scipy import stats\n",
        "df = pd.read_csv(data_path, na_values = 'Not Provided')"
      ],
      "execution_count": null,
      "outputs": [
        {
          "output_type": "stream",
          "text": [
            "/usr/local/lib/python3.7/dist-packages/IPython/core/interactiveshell.py:2718: DtypeWarning: Columns (12) have mixed types.Specify dtype option on import or set low_memory=False.\n",
            "  interactivity=interactivity, compiler=compiler, result=result)\n"
          ],
          "name": "stderr"
        }
      ]
    },
    {
      "cell_type": "code",
      "metadata": {
        "colab": {
          "base_uri": "https://localhost:8080/"
        },
        "id": "ZJ7ddbKiHdru",
        "outputId": "3ad72b64-72f6-4911-f0c0-1c717eae58ca"
      },
      "source": [
        "df.shape"
      ],
      "execution_count": null,
      "outputs": [
        {
          "output_type": "execute_result",
          "data": {
            "text/plain": [
              "(148654, 13)"
            ]
          },
          "metadata": {
            "tags": []
          },
          "execution_count": 35
        }
      ]
    },
    {
      "cell_type": "code",
      "metadata": {
        "colab": {
          "base_uri": "https://localhost:8080/",
          "height": 317
        },
        "id": "NuL-0LfzIEaP",
        "outputId": "f1603c61-f990-4c2b-9293-e6dcc271dded"
      },
      "source": [
        "df.describe()"
      ],
      "execution_count": null,
      "outputs": [
        {
          "output_type": "execute_result",
          "data": {
            "text/html": [
              "<div>\n",
              "<style scoped>\n",
              "    .dataframe tbody tr th:only-of-type {\n",
              "        vertical-align: middle;\n",
              "    }\n",
              "\n",
              "    .dataframe tbody tr th {\n",
              "        vertical-align: top;\n",
              "    }\n",
              "\n",
              "    .dataframe thead th {\n",
              "        text-align: right;\n",
              "    }\n",
              "</style>\n",
              "<table border=\"1\" class=\"dataframe\">\n",
              "  <thead>\n",
              "    <tr style=\"text-align: right;\">\n",
              "      <th></th>\n",
              "      <th>Id</th>\n",
              "      <th>BasePay</th>\n",
              "      <th>OvertimePay</th>\n",
              "      <th>OtherPay</th>\n",
              "      <th>Benefits</th>\n",
              "      <th>TotalPay</th>\n",
              "      <th>TotalPayBenefits</th>\n",
              "      <th>Year</th>\n",
              "      <th>Notes</th>\n",
              "    </tr>\n",
              "  </thead>\n",
              "  <tbody>\n",
              "    <tr>\n",
              "      <th>count</th>\n",
              "      <td>148654.000000</td>\n",
              "      <td>148045.000000</td>\n",
              "      <td>148650.000000</td>\n",
              "      <td>148650.000000</td>\n",
              "      <td>112491.000000</td>\n",
              "      <td>148654.000000</td>\n",
              "      <td>148654.000000</td>\n",
              "      <td>148654.000000</td>\n",
              "      <td>0.0</td>\n",
              "    </tr>\n",
              "    <tr>\n",
              "      <th>mean</th>\n",
              "      <td>74327.500000</td>\n",
              "      <td>66325.448841</td>\n",
              "      <td>5066.059886</td>\n",
              "      <td>3648.767297</td>\n",
              "      <td>25007.893151</td>\n",
              "      <td>74768.321972</td>\n",
              "      <td>93692.554811</td>\n",
              "      <td>2012.522643</td>\n",
              "      <td>NaN</td>\n",
              "    </tr>\n",
              "    <tr>\n",
              "      <th>std</th>\n",
              "      <td>42912.857795</td>\n",
              "      <td>42764.635495</td>\n",
              "      <td>11454.380559</td>\n",
              "      <td>8056.601866</td>\n",
              "      <td>15402.215858</td>\n",
              "      <td>50517.005274</td>\n",
              "      <td>62793.533483</td>\n",
              "      <td>1.117538</td>\n",
              "      <td>NaN</td>\n",
              "    </tr>\n",
              "    <tr>\n",
              "      <th>min</th>\n",
              "      <td>1.000000</td>\n",
              "      <td>-166.010000</td>\n",
              "      <td>-0.010000</td>\n",
              "      <td>-7058.590000</td>\n",
              "      <td>-33.890000</td>\n",
              "      <td>-618.130000</td>\n",
              "      <td>-618.130000</td>\n",
              "      <td>2011.000000</td>\n",
              "      <td>NaN</td>\n",
              "    </tr>\n",
              "    <tr>\n",
              "      <th>25%</th>\n",
              "      <td>37164.250000</td>\n",
              "      <td>33588.200000</td>\n",
              "      <td>0.000000</td>\n",
              "      <td>0.000000</td>\n",
              "      <td>11535.395000</td>\n",
              "      <td>36168.995000</td>\n",
              "      <td>44065.650000</td>\n",
              "      <td>2012.000000</td>\n",
              "      <td>NaN</td>\n",
              "    </tr>\n",
              "    <tr>\n",
              "      <th>50%</th>\n",
              "      <td>74327.500000</td>\n",
              "      <td>65007.450000</td>\n",
              "      <td>0.000000</td>\n",
              "      <td>811.270000</td>\n",
              "      <td>28628.620000</td>\n",
              "      <td>71426.610000</td>\n",
              "      <td>92404.090000</td>\n",
              "      <td>2013.000000</td>\n",
              "      <td>NaN</td>\n",
              "    </tr>\n",
              "    <tr>\n",
              "      <th>75%</th>\n",
              "      <td>111490.750000</td>\n",
              "      <td>94691.050000</td>\n",
              "      <td>4658.175000</td>\n",
              "      <td>4236.065000</td>\n",
              "      <td>35566.855000</td>\n",
              "      <td>105839.135000</td>\n",
              "      <td>132876.450000</td>\n",
              "      <td>2014.000000</td>\n",
              "      <td>NaN</td>\n",
              "    </tr>\n",
              "    <tr>\n",
              "      <th>max</th>\n",
              "      <td>148654.000000</td>\n",
              "      <td>319275.010000</td>\n",
              "      <td>245131.880000</td>\n",
              "      <td>400184.250000</td>\n",
              "      <td>96570.660000</td>\n",
              "      <td>567595.430000</td>\n",
              "      <td>567595.430000</td>\n",
              "      <td>2014.000000</td>\n",
              "      <td>NaN</td>\n",
              "    </tr>\n",
              "  </tbody>\n",
              "</table>\n",
              "</div>"
            ],
            "text/plain": [
              "                  Id        BasePay  ...           Year  Notes\n",
              "count  148654.000000  148045.000000  ...  148654.000000    0.0\n",
              "mean    74327.500000   66325.448841  ...    2012.522643    NaN\n",
              "std     42912.857795   42764.635495  ...       1.117538    NaN\n",
              "min         1.000000    -166.010000  ...    2011.000000    NaN\n",
              "25%     37164.250000   33588.200000  ...    2012.000000    NaN\n",
              "50%     74327.500000   65007.450000  ...    2013.000000    NaN\n",
              "75%    111490.750000   94691.050000  ...    2014.000000    NaN\n",
              "max    148654.000000  319275.010000  ...    2014.000000    NaN\n",
              "\n",
              "[8 rows x 9 columns]"
            ]
          },
          "metadata": {
            "tags": []
          },
          "execution_count": 3
        }
      ]
    },
    {
      "cell_type": "code",
      "metadata": {
        "colab": {
          "base_uri": "https://localhost:8080/",
          "height": 779
        },
        "id": "AG5GI6YLILPv",
        "outputId": "a5c9fe67-b820-4202-dc88-4a4f0ffd31f5"
      },
      "source": [
        "df"
      ],
      "execution_count": null,
      "outputs": [
        {
          "output_type": "execute_result",
          "data": {
            "text/html": [
              "<div>\n",
              "<style scoped>\n",
              "    .dataframe tbody tr th:only-of-type {\n",
              "        vertical-align: middle;\n",
              "    }\n",
              "\n",
              "    .dataframe tbody tr th {\n",
              "        vertical-align: top;\n",
              "    }\n",
              "\n",
              "    .dataframe thead th {\n",
              "        text-align: right;\n",
              "    }\n",
              "</style>\n",
              "<table border=\"1\" class=\"dataframe\">\n",
              "  <thead>\n",
              "    <tr style=\"text-align: right;\">\n",
              "      <th></th>\n",
              "      <th>Id</th>\n",
              "      <th>EmployeeName</th>\n",
              "      <th>JobTitle</th>\n",
              "      <th>BasePay</th>\n",
              "      <th>OvertimePay</th>\n",
              "      <th>OtherPay</th>\n",
              "      <th>Benefits</th>\n",
              "      <th>TotalPay</th>\n",
              "      <th>TotalPayBenefits</th>\n",
              "      <th>Year</th>\n",
              "      <th>Notes</th>\n",
              "      <th>Agency</th>\n",
              "      <th>Status</th>\n",
              "    </tr>\n",
              "  </thead>\n",
              "  <tbody>\n",
              "    <tr>\n",
              "      <th>0</th>\n",
              "      <td>1</td>\n",
              "      <td>NATHANIEL FORD</td>\n",
              "      <td>GENERAL MANAGER-METROPOLITAN TRANSIT AUTHORITY</td>\n",
              "      <td>167411.18</td>\n",
              "      <td>0.00</td>\n",
              "      <td>400184.25</td>\n",
              "      <td>NaN</td>\n",
              "      <td>567595.43</td>\n",
              "      <td>567595.43</td>\n",
              "      <td>2011</td>\n",
              "      <td>NaN</td>\n",
              "      <td>San Francisco</td>\n",
              "      <td>NaN</td>\n",
              "    </tr>\n",
              "    <tr>\n",
              "      <th>1</th>\n",
              "      <td>2</td>\n",
              "      <td>GARY JIMENEZ</td>\n",
              "      <td>CAPTAIN III (POLICE DEPARTMENT)</td>\n",
              "      <td>155966.02</td>\n",
              "      <td>245131.88</td>\n",
              "      <td>137811.38</td>\n",
              "      <td>NaN</td>\n",
              "      <td>538909.28</td>\n",
              "      <td>538909.28</td>\n",
              "      <td>2011</td>\n",
              "      <td>NaN</td>\n",
              "      <td>San Francisco</td>\n",
              "      <td>NaN</td>\n",
              "    </tr>\n",
              "    <tr>\n",
              "      <th>2</th>\n",
              "      <td>3</td>\n",
              "      <td>ALBERT PARDINI</td>\n",
              "      <td>CAPTAIN III (POLICE DEPARTMENT)</td>\n",
              "      <td>212739.13</td>\n",
              "      <td>106088.18</td>\n",
              "      <td>16452.60</td>\n",
              "      <td>NaN</td>\n",
              "      <td>335279.91</td>\n",
              "      <td>335279.91</td>\n",
              "      <td>2011</td>\n",
              "      <td>NaN</td>\n",
              "      <td>San Francisco</td>\n",
              "      <td>NaN</td>\n",
              "    </tr>\n",
              "    <tr>\n",
              "      <th>3</th>\n",
              "      <td>4</td>\n",
              "      <td>CHRISTOPHER CHONG</td>\n",
              "      <td>WIRE ROPE CABLE MAINTENANCE MECHANIC</td>\n",
              "      <td>77916.00</td>\n",
              "      <td>56120.71</td>\n",
              "      <td>198306.90</td>\n",
              "      <td>NaN</td>\n",
              "      <td>332343.61</td>\n",
              "      <td>332343.61</td>\n",
              "      <td>2011</td>\n",
              "      <td>NaN</td>\n",
              "      <td>San Francisco</td>\n",
              "      <td>NaN</td>\n",
              "    </tr>\n",
              "    <tr>\n",
              "      <th>4</th>\n",
              "      <td>5</td>\n",
              "      <td>PATRICK GARDNER</td>\n",
              "      <td>DEPUTY CHIEF OF DEPARTMENT,(FIRE DEPARTMENT)</td>\n",
              "      <td>134401.60</td>\n",
              "      <td>9737.00</td>\n",
              "      <td>182234.59</td>\n",
              "      <td>NaN</td>\n",
              "      <td>326373.19</td>\n",
              "      <td>326373.19</td>\n",
              "      <td>2011</td>\n",
              "      <td>NaN</td>\n",
              "      <td>San Francisco</td>\n",
              "      <td>NaN</td>\n",
              "    </tr>\n",
              "    <tr>\n",
              "      <th>...</th>\n",
              "      <td>...</td>\n",
              "      <td>...</td>\n",
              "      <td>...</td>\n",
              "      <td>...</td>\n",
              "      <td>...</td>\n",
              "      <td>...</td>\n",
              "      <td>...</td>\n",
              "      <td>...</td>\n",
              "      <td>...</td>\n",
              "      <td>...</td>\n",
              "      <td>...</td>\n",
              "      <td>...</td>\n",
              "      <td>...</td>\n",
              "    </tr>\n",
              "    <tr>\n",
              "      <th>148649</th>\n",
              "      <td>148650</td>\n",
              "      <td>Roy I Tillery</td>\n",
              "      <td>Custodian</td>\n",
              "      <td>0.00</td>\n",
              "      <td>0.00</td>\n",
              "      <td>0.00</td>\n",
              "      <td>0.0</td>\n",
              "      <td>0.00</td>\n",
              "      <td>0.00</td>\n",
              "      <td>2014</td>\n",
              "      <td>NaN</td>\n",
              "      <td>San Francisco</td>\n",
              "      <td>PT</td>\n",
              "    </tr>\n",
              "    <tr>\n",
              "      <th>148650</th>\n",
              "      <td>148651</td>\n",
              "      <td>Not provided</td>\n",
              "      <td>Not provided</td>\n",
              "      <td>NaN</td>\n",
              "      <td>NaN</td>\n",
              "      <td>NaN</td>\n",
              "      <td>NaN</td>\n",
              "      <td>0.00</td>\n",
              "      <td>0.00</td>\n",
              "      <td>2014</td>\n",
              "      <td>NaN</td>\n",
              "      <td>San Francisco</td>\n",
              "      <td>NaN</td>\n",
              "    </tr>\n",
              "    <tr>\n",
              "      <th>148651</th>\n",
              "      <td>148652</td>\n",
              "      <td>Not provided</td>\n",
              "      <td>Not provided</td>\n",
              "      <td>NaN</td>\n",
              "      <td>NaN</td>\n",
              "      <td>NaN</td>\n",
              "      <td>NaN</td>\n",
              "      <td>0.00</td>\n",
              "      <td>0.00</td>\n",
              "      <td>2014</td>\n",
              "      <td>NaN</td>\n",
              "      <td>San Francisco</td>\n",
              "      <td>NaN</td>\n",
              "    </tr>\n",
              "    <tr>\n",
              "      <th>148652</th>\n",
              "      <td>148653</td>\n",
              "      <td>Not provided</td>\n",
              "      <td>Not provided</td>\n",
              "      <td>NaN</td>\n",
              "      <td>NaN</td>\n",
              "      <td>NaN</td>\n",
              "      <td>NaN</td>\n",
              "      <td>0.00</td>\n",
              "      <td>0.00</td>\n",
              "      <td>2014</td>\n",
              "      <td>NaN</td>\n",
              "      <td>San Francisco</td>\n",
              "      <td>NaN</td>\n",
              "    </tr>\n",
              "    <tr>\n",
              "      <th>148653</th>\n",
              "      <td>148654</td>\n",
              "      <td>Joe Lopez</td>\n",
              "      <td>Counselor, Log Cabin Ranch</td>\n",
              "      <td>0.00</td>\n",
              "      <td>0.00</td>\n",
              "      <td>-618.13</td>\n",
              "      <td>0.0</td>\n",
              "      <td>-618.13</td>\n",
              "      <td>-618.13</td>\n",
              "      <td>2014</td>\n",
              "      <td>NaN</td>\n",
              "      <td>San Francisco</td>\n",
              "      <td>PT</td>\n",
              "    </tr>\n",
              "  </tbody>\n",
              "</table>\n",
              "<p>148654 rows × 13 columns</p>\n",
              "</div>"
            ],
            "text/plain": [
              "            Id       EmployeeName  ...         Agency  Status\n",
              "0            1     NATHANIEL FORD  ...  San Francisco     NaN\n",
              "1            2       GARY JIMENEZ  ...  San Francisco     NaN\n",
              "2            3     ALBERT PARDINI  ...  San Francisco     NaN\n",
              "3            4  CHRISTOPHER CHONG  ...  San Francisco     NaN\n",
              "4            5    PATRICK GARDNER  ...  San Francisco     NaN\n",
              "...        ...                ...  ...            ...     ...\n",
              "148649  148650      Roy I Tillery  ...  San Francisco      PT\n",
              "148650  148651       Not provided  ...  San Francisco     NaN\n",
              "148651  148652       Not provided  ...  San Francisco     NaN\n",
              "148652  148653       Not provided  ...  San Francisco     NaN\n",
              "148653  148654          Joe Lopez  ...  San Francisco      PT\n",
              "\n",
              "[148654 rows x 13 columns]"
            ]
          },
          "metadata": {
            "tags": []
          },
          "execution_count": 4
        }
      ]
    },
    {
      "cell_type": "code",
      "metadata": {
        "colab": {
          "base_uri": "https://localhost:8080/"
        },
        "id": "qqtyEE2LIQOl",
        "outputId": "1a5d037e-04a5-41bd-fba9-232fcb3662ff"
      },
      "source": [
        "df.info()"
      ],
      "execution_count": null,
      "outputs": [
        {
          "output_type": "stream",
          "text": [
            "<class 'pandas.core.frame.DataFrame'>\n",
            "RangeIndex: 148654 entries, 0 to 148653\n",
            "Data columns (total 13 columns):\n",
            " #   Column            Non-Null Count   Dtype  \n",
            "---  ------            --------------   -----  \n",
            " 0   Id                148654 non-null  int64  \n",
            " 1   EmployeeName      148652 non-null  object \n",
            " 2   JobTitle          148654 non-null  object \n",
            " 3   BasePay           148045 non-null  float64\n",
            " 4   OvertimePay       148650 non-null  float64\n",
            " 5   OtherPay          148650 non-null  float64\n",
            " 6   Benefits          112491 non-null  float64\n",
            " 7   TotalPay          148654 non-null  float64\n",
            " 8   TotalPayBenefits  148654 non-null  float64\n",
            " 9   Year              148654 non-null  int64  \n",
            " 10  Notes             0 non-null       float64\n",
            " 11  Agency            148654 non-null  object \n",
            " 12  Status            38119 non-null   object \n",
            "dtypes: float64(7), int64(2), object(4)\n",
            "memory usage: 14.7+ MB\n"
          ],
          "name": "stdout"
        }
      ]
    },
    {
      "cell_type": "code",
      "metadata": {
        "colab": {
          "base_uri": "https://localhost:8080/",
          "height": 419
        },
        "id": "sFQPvkCCISdX",
        "outputId": "c7832e5f-4b70-4baf-cf70-aa5051de6f44"
      },
      "source": [
        "df.isnull()"
      ],
      "execution_count": null,
      "outputs": [
        {
          "output_type": "execute_result",
          "data": {
            "text/html": [
              "<div>\n",
              "<style scoped>\n",
              "    .dataframe tbody tr th:only-of-type {\n",
              "        vertical-align: middle;\n",
              "    }\n",
              "\n",
              "    .dataframe tbody tr th {\n",
              "        vertical-align: top;\n",
              "    }\n",
              "\n",
              "    .dataframe thead th {\n",
              "        text-align: right;\n",
              "    }\n",
              "</style>\n",
              "<table border=\"1\" class=\"dataframe\">\n",
              "  <thead>\n",
              "    <tr style=\"text-align: right;\">\n",
              "      <th></th>\n",
              "      <th>Id</th>\n",
              "      <th>EmployeeName</th>\n",
              "      <th>JobTitle</th>\n",
              "      <th>BasePay</th>\n",
              "      <th>OvertimePay</th>\n",
              "      <th>OtherPay</th>\n",
              "      <th>Benefits</th>\n",
              "      <th>TotalPay</th>\n",
              "      <th>TotalPayBenefits</th>\n",
              "      <th>Year</th>\n",
              "      <th>Notes</th>\n",
              "      <th>Agency</th>\n",
              "      <th>Status</th>\n",
              "    </tr>\n",
              "  </thead>\n",
              "  <tbody>\n",
              "    <tr>\n",
              "      <th>0</th>\n",
              "      <td>False</td>\n",
              "      <td>False</td>\n",
              "      <td>False</td>\n",
              "      <td>False</td>\n",
              "      <td>False</td>\n",
              "      <td>False</td>\n",
              "      <td>True</td>\n",
              "      <td>False</td>\n",
              "      <td>False</td>\n",
              "      <td>False</td>\n",
              "      <td>True</td>\n",
              "      <td>False</td>\n",
              "      <td>True</td>\n",
              "    </tr>\n",
              "    <tr>\n",
              "      <th>1</th>\n",
              "      <td>False</td>\n",
              "      <td>False</td>\n",
              "      <td>False</td>\n",
              "      <td>False</td>\n",
              "      <td>False</td>\n",
              "      <td>False</td>\n",
              "      <td>True</td>\n",
              "      <td>False</td>\n",
              "      <td>False</td>\n",
              "      <td>False</td>\n",
              "      <td>True</td>\n",
              "      <td>False</td>\n",
              "      <td>True</td>\n",
              "    </tr>\n",
              "    <tr>\n",
              "      <th>2</th>\n",
              "      <td>False</td>\n",
              "      <td>False</td>\n",
              "      <td>False</td>\n",
              "      <td>False</td>\n",
              "      <td>False</td>\n",
              "      <td>False</td>\n",
              "      <td>True</td>\n",
              "      <td>False</td>\n",
              "      <td>False</td>\n",
              "      <td>False</td>\n",
              "      <td>True</td>\n",
              "      <td>False</td>\n",
              "      <td>True</td>\n",
              "    </tr>\n",
              "    <tr>\n",
              "      <th>3</th>\n",
              "      <td>False</td>\n",
              "      <td>False</td>\n",
              "      <td>False</td>\n",
              "      <td>False</td>\n",
              "      <td>False</td>\n",
              "      <td>False</td>\n",
              "      <td>True</td>\n",
              "      <td>False</td>\n",
              "      <td>False</td>\n",
              "      <td>False</td>\n",
              "      <td>True</td>\n",
              "      <td>False</td>\n",
              "      <td>True</td>\n",
              "    </tr>\n",
              "    <tr>\n",
              "      <th>4</th>\n",
              "      <td>False</td>\n",
              "      <td>False</td>\n",
              "      <td>False</td>\n",
              "      <td>False</td>\n",
              "      <td>False</td>\n",
              "      <td>False</td>\n",
              "      <td>True</td>\n",
              "      <td>False</td>\n",
              "      <td>False</td>\n",
              "      <td>False</td>\n",
              "      <td>True</td>\n",
              "      <td>False</td>\n",
              "      <td>True</td>\n",
              "    </tr>\n",
              "    <tr>\n",
              "      <th>...</th>\n",
              "      <td>...</td>\n",
              "      <td>...</td>\n",
              "      <td>...</td>\n",
              "      <td>...</td>\n",
              "      <td>...</td>\n",
              "      <td>...</td>\n",
              "      <td>...</td>\n",
              "      <td>...</td>\n",
              "      <td>...</td>\n",
              "      <td>...</td>\n",
              "      <td>...</td>\n",
              "      <td>...</td>\n",
              "      <td>...</td>\n",
              "    </tr>\n",
              "    <tr>\n",
              "      <th>148649</th>\n",
              "      <td>False</td>\n",
              "      <td>False</td>\n",
              "      <td>False</td>\n",
              "      <td>False</td>\n",
              "      <td>False</td>\n",
              "      <td>False</td>\n",
              "      <td>False</td>\n",
              "      <td>False</td>\n",
              "      <td>False</td>\n",
              "      <td>False</td>\n",
              "      <td>True</td>\n",
              "      <td>False</td>\n",
              "      <td>False</td>\n",
              "    </tr>\n",
              "    <tr>\n",
              "      <th>148650</th>\n",
              "      <td>False</td>\n",
              "      <td>False</td>\n",
              "      <td>False</td>\n",
              "      <td>True</td>\n",
              "      <td>True</td>\n",
              "      <td>True</td>\n",
              "      <td>True</td>\n",
              "      <td>False</td>\n",
              "      <td>False</td>\n",
              "      <td>False</td>\n",
              "      <td>True</td>\n",
              "      <td>False</td>\n",
              "      <td>True</td>\n",
              "    </tr>\n",
              "    <tr>\n",
              "      <th>148651</th>\n",
              "      <td>False</td>\n",
              "      <td>False</td>\n",
              "      <td>False</td>\n",
              "      <td>True</td>\n",
              "      <td>True</td>\n",
              "      <td>True</td>\n",
              "      <td>True</td>\n",
              "      <td>False</td>\n",
              "      <td>False</td>\n",
              "      <td>False</td>\n",
              "      <td>True</td>\n",
              "      <td>False</td>\n",
              "      <td>True</td>\n",
              "    </tr>\n",
              "    <tr>\n",
              "      <th>148652</th>\n",
              "      <td>False</td>\n",
              "      <td>False</td>\n",
              "      <td>False</td>\n",
              "      <td>True</td>\n",
              "      <td>True</td>\n",
              "      <td>True</td>\n",
              "      <td>True</td>\n",
              "      <td>False</td>\n",
              "      <td>False</td>\n",
              "      <td>False</td>\n",
              "      <td>True</td>\n",
              "      <td>False</td>\n",
              "      <td>True</td>\n",
              "    </tr>\n",
              "    <tr>\n",
              "      <th>148653</th>\n",
              "      <td>False</td>\n",
              "      <td>False</td>\n",
              "      <td>False</td>\n",
              "      <td>False</td>\n",
              "      <td>False</td>\n",
              "      <td>False</td>\n",
              "      <td>False</td>\n",
              "      <td>False</td>\n",
              "      <td>False</td>\n",
              "      <td>False</td>\n",
              "      <td>True</td>\n",
              "      <td>False</td>\n",
              "      <td>False</td>\n",
              "    </tr>\n",
              "  </tbody>\n",
              "</table>\n",
              "<p>148654 rows × 13 columns</p>\n",
              "</div>"
            ],
            "text/plain": [
              "           Id  EmployeeName  JobTitle  BasePay  ...   Year  Notes  Agency  Status\n",
              "0       False         False     False    False  ...  False   True   False    True\n",
              "1       False         False     False    False  ...  False   True   False    True\n",
              "2       False         False     False    False  ...  False   True   False    True\n",
              "3       False         False     False    False  ...  False   True   False    True\n",
              "4       False         False     False    False  ...  False   True   False    True\n",
              "...       ...           ...       ...      ...  ...    ...    ...     ...     ...\n",
              "148649  False         False     False    False  ...  False   True   False   False\n",
              "148650  False         False     False     True  ...  False   True   False    True\n",
              "148651  False         False     False     True  ...  False   True   False    True\n",
              "148652  False         False     False     True  ...  False   True   False    True\n",
              "148653  False         False     False    False  ...  False   True   False   False\n",
              "\n",
              "[148654 rows x 13 columns]"
            ]
          },
          "metadata": {
            "tags": []
          },
          "execution_count": 6
        }
      ]
    },
    {
      "cell_type": "code",
      "metadata": {
        "colab": {
          "base_uri": "https://localhost:8080/",
          "height": 589
        },
        "id": "pf36qttxD2pU",
        "outputId": "9f4c9517-341b-4390-f63c-2556a9e676e9"
      },
      "source": [
        "df = df[df['BasePay'].notna()]\n",
        "df = df[df['OvertimePay'].notna()]\n",
        "df = df[df['OtherPay'].notna()]\n",
        "df = df[df['TotalPay'].notna()]\n",
        "df = df[df['TotalPayBenefits'].notna()]\n",
        "df"
      ],
      "execution_count": null,
      "outputs": [
        {
          "output_type": "execute_result",
          "data": {
            "text/html": [
              "<div>\n",
              "<style scoped>\n",
              "    .dataframe tbody tr th:only-of-type {\n",
              "        vertical-align: middle;\n",
              "    }\n",
              "\n",
              "    .dataframe tbody tr th {\n",
              "        vertical-align: top;\n",
              "    }\n",
              "\n",
              "    .dataframe thead th {\n",
              "        text-align: right;\n",
              "    }\n",
              "</style>\n",
              "<table border=\"1\" class=\"dataframe\">\n",
              "  <thead>\n",
              "    <tr style=\"text-align: right;\">\n",
              "      <th></th>\n",
              "      <th>Id</th>\n",
              "      <th>EmployeeName</th>\n",
              "      <th>JobTitle</th>\n",
              "      <th>BasePay</th>\n",
              "      <th>OvertimePay</th>\n",
              "      <th>OtherPay</th>\n",
              "      <th>Benefits</th>\n",
              "      <th>TotalPay</th>\n",
              "      <th>TotalPayBenefits</th>\n",
              "      <th>Year</th>\n",
              "      <th>Notes</th>\n",
              "      <th>Agency</th>\n",
              "      <th>Status</th>\n",
              "    </tr>\n",
              "  </thead>\n",
              "  <tbody>\n",
              "    <tr>\n",
              "      <th>0</th>\n",
              "      <td>1</td>\n",
              "      <td>NATHANIEL FORD</td>\n",
              "      <td>GENERAL MANAGER-METROPOLITAN TRANSIT AUTHORITY</td>\n",
              "      <td>167411.18</td>\n",
              "      <td>0.00</td>\n",
              "      <td>400184.25</td>\n",
              "      <td>NaN</td>\n",
              "      <td>567595.43</td>\n",
              "      <td>567595.43</td>\n",
              "      <td>2011</td>\n",
              "      <td>NaN</td>\n",
              "      <td>San Francisco</td>\n",
              "      <td>NaN</td>\n",
              "    </tr>\n",
              "    <tr>\n",
              "      <th>1</th>\n",
              "      <td>2</td>\n",
              "      <td>GARY JIMENEZ</td>\n",
              "      <td>CAPTAIN III (POLICE DEPARTMENT)</td>\n",
              "      <td>155966.02</td>\n",
              "      <td>245131.88</td>\n",
              "      <td>137811.38</td>\n",
              "      <td>NaN</td>\n",
              "      <td>538909.28</td>\n",
              "      <td>538909.28</td>\n",
              "      <td>2011</td>\n",
              "      <td>NaN</td>\n",
              "      <td>San Francisco</td>\n",
              "      <td>NaN</td>\n",
              "    </tr>\n",
              "    <tr>\n",
              "      <th>2</th>\n",
              "      <td>3</td>\n",
              "      <td>ALBERT PARDINI</td>\n",
              "      <td>CAPTAIN III (POLICE DEPARTMENT)</td>\n",
              "      <td>212739.13</td>\n",
              "      <td>106088.18</td>\n",
              "      <td>16452.60</td>\n",
              "      <td>NaN</td>\n",
              "      <td>335279.91</td>\n",
              "      <td>335279.91</td>\n",
              "      <td>2011</td>\n",
              "      <td>NaN</td>\n",
              "      <td>San Francisco</td>\n",
              "      <td>NaN</td>\n",
              "    </tr>\n",
              "    <tr>\n",
              "      <th>3</th>\n",
              "      <td>4</td>\n",
              "      <td>CHRISTOPHER CHONG</td>\n",
              "      <td>WIRE ROPE CABLE MAINTENANCE MECHANIC</td>\n",
              "      <td>77916.00</td>\n",
              "      <td>56120.71</td>\n",
              "      <td>198306.90</td>\n",
              "      <td>NaN</td>\n",
              "      <td>332343.61</td>\n",
              "      <td>332343.61</td>\n",
              "      <td>2011</td>\n",
              "      <td>NaN</td>\n",
              "      <td>San Francisco</td>\n",
              "      <td>NaN</td>\n",
              "    </tr>\n",
              "    <tr>\n",
              "      <th>4</th>\n",
              "      <td>5</td>\n",
              "      <td>PATRICK GARDNER</td>\n",
              "      <td>DEPUTY CHIEF OF DEPARTMENT,(FIRE DEPARTMENT)</td>\n",
              "      <td>134401.60</td>\n",
              "      <td>9737.00</td>\n",
              "      <td>182234.59</td>\n",
              "      <td>NaN</td>\n",
              "      <td>326373.19</td>\n",
              "      <td>326373.19</td>\n",
              "      <td>2011</td>\n",
              "      <td>NaN</td>\n",
              "      <td>San Francisco</td>\n",
              "      <td>NaN</td>\n",
              "    </tr>\n",
              "    <tr>\n",
              "      <th>...</th>\n",
              "      <td>...</td>\n",
              "      <td>...</td>\n",
              "      <td>...</td>\n",
              "      <td>...</td>\n",
              "      <td>...</td>\n",
              "      <td>...</td>\n",
              "      <td>...</td>\n",
              "      <td>...</td>\n",
              "      <td>...</td>\n",
              "      <td>...</td>\n",
              "      <td>...</td>\n",
              "      <td>...</td>\n",
              "      <td>...</td>\n",
              "    </tr>\n",
              "    <tr>\n",
              "      <th>148645</th>\n",
              "      <td>148646</td>\n",
              "      <td>Carolyn A Wilson</td>\n",
              "      <td>Human Services Technician</td>\n",
              "      <td>0.00</td>\n",
              "      <td>0.00</td>\n",
              "      <td>0.00</td>\n",
              "      <td>0.0</td>\n",
              "      <td>0.00</td>\n",
              "      <td>0.00</td>\n",
              "      <td>2014</td>\n",
              "      <td>NaN</td>\n",
              "      <td>San Francisco</td>\n",
              "      <td>PT</td>\n",
              "    </tr>\n",
              "    <tr>\n",
              "      <th>148647</th>\n",
              "      <td>148648</td>\n",
              "      <td>Joann Anderson</td>\n",
              "      <td>Communications Dispatcher 2</td>\n",
              "      <td>0.00</td>\n",
              "      <td>0.00</td>\n",
              "      <td>0.00</td>\n",
              "      <td>0.0</td>\n",
              "      <td>0.00</td>\n",
              "      <td>0.00</td>\n",
              "      <td>2014</td>\n",
              "      <td>NaN</td>\n",
              "      <td>San Francisco</td>\n",
              "      <td>PT</td>\n",
              "    </tr>\n",
              "    <tr>\n",
              "      <th>148648</th>\n",
              "      <td>148649</td>\n",
              "      <td>Leon Walker</td>\n",
              "      <td>Custodian</td>\n",
              "      <td>0.00</td>\n",
              "      <td>0.00</td>\n",
              "      <td>0.00</td>\n",
              "      <td>0.0</td>\n",
              "      <td>0.00</td>\n",
              "      <td>0.00</td>\n",
              "      <td>2014</td>\n",
              "      <td>NaN</td>\n",
              "      <td>San Francisco</td>\n",
              "      <td>PT</td>\n",
              "    </tr>\n",
              "    <tr>\n",
              "      <th>148649</th>\n",
              "      <td>148650</td>\n",
              "      <td>Roy I Tillery</td>\n",
              "      <td>Custodian</td>\n",
              "      <td>0.00</td>\n",
              "      <td>0.00</td>\n",
              "      <td>0.00</td>\n",
              "      <td>0.0</td>\n",
              "      <td>0.00</td>\n",
              "      <td>0.00</td>\n",
              "      <td>2014</td>\n",
              "      <td>NaN</td>\n",
              "      <td>San Francisco</td>\n",
              "      <td>PT</td>\n",
              "    </tr>\n",
              "    <tr>\n",
              "      <th>148653</th>\n",
              "      <td>148654</td>\n",
              "      <td>Joe Lopez</td>\n",
              "      <td>Counselor, Log Cabin Ranch</td>\n",
              "      <td>0.00</td>\n",
              "      <td>0.00</td>\n",
              "      <td>-618.13</td>\n",
              "      <td>0.0</td>\n",
              "      <td>-618.13</td>\n",
              "      <td>-618.13</td>\n",
              "      <td>2014</td>\n",
              "      <td>NaN</td>\n",
              "      <td>San Francisco</td>\n",
              "      <td>PT</td>\n",
              "    </tr>\n",
              "  </tbody>\n",
              "</table>\n",
              "<p>148045 rows × 13 columns</p>\n",
              "</div>"
            ],
            "text/plain": [
              "            Id       EmployeeName  ...         Agency  Status\n",
              "0            1     NATHANIEL FORD  ...  San Francisco     NaN\n",
              "1            2       GARY JIMENEZ  ...  San Francisco     NaN\n",
              "2            3     ALBERT PARDINI  ...  San Francisco     NaN\n",
              "3            4  CHRISTOPHER CHONG  ...  San Francisco     NaN\n",
              "4            5    PATRICK GARDNER  ...  San Francisco     NaN\n",
              "...        ...                ...  ...            ...     ...\n",
              "148645  148646   Carolyn A Wilson  ...  San Francisco      PT\n",
              "148647  148648     Joann Anderson  ...  San Francisco      PT\n",
              "148648  148649        Leon Walker  ...  San Francisco      PT\n",
              "148649  148650      Roy I Tillery  ...  San Francisco      PT\n",
              "148653  148654          Joe Lopez  ...  San Francisco      PT\n",
              "\n",
              "[148045 rows x 13 columns]"
            ]
          },
          "metadata": {
            "tags": []
          },
          "execution_count": 60
        }
      ]
    },
    {
      "cell_type": "code",
      "metadata": {
        "colab": {
          "base_uri": "https://localhost:8080/"
        },
        "id": "zjEICLheIee-",
        "outputId": "8b33f08e-8c7a-4338-fa7c-a97f1d77402f"
      },
      "source": [
        "df['Agency'].nunique()"
      ],
      "execution_count": null,
      "outputs": [
        {
          "output_type": "execute_result",
          "data": {
            "text/plain": [
              "1"
            ]
          },
          "metadata": {
            "tags": []
          },
          "execution_count": 7
        }
      ]
    },
    {
      "cell_type": "code",
      "metadata": {
        "colab": {
          "base_uri": "https://localhost:8080/"
        },
        "id": "CamPnX_eKPp2",
        "outputId": "7fa0b784-7525-46e9-872e-364c1be64a42"
      },
      "source": [
        "df['Status'].unique()"
      ],
      "execution_count": null,
      "outputs": [
        {
          "output_type": "execute_result",
          "data": {
            "text/plain": [
              "array([nan, 'PT', 'FT'], dtype=object)"
            ]
          },
          "metadata": {
            "tags": []
          },
          "execution_count": 8
        }
      ]
    },
    {
      "cell_type": "code",
      "metadata": {
        "colab": {
          "base_uri": "https://localhost:8080/"
        },
        "id": "I6nGk5x2KZxa",
        "outputId": "aefa5540-c78c-4d37-f13f-a36d6623650e"
      },
      "source": [
        "df['JobTitle'].unique()"
      ],
      "execution_count": null,
      "outputs": [
        {
          "output_type": "execute_result",
          "data": {
            "text/plain": [
              "array(['GENERAL MANAGER-METROPOLITAN TRANSIT AUTHORITY',\n",
              "       'CAPTAIN III (POLICE DEPARTMENT)',\n",
              "       'WIRE ROPE CABLE MAINTENANCE MECHANIC', ..., 'Conversion',\n",
              "       'Cashier 3', 'Not provided'], dtype=object)"
            ]
          },
          "metadata": {
            "tags": []
          },
          "execution_count": 9
        }
      ]
    },
    {
      "cell_type": "code",
      "metadata": {
        "colab": {
          "base_uri": "https://localhost:8080/"
        },
        "id": "2hO5XLcZxwqZ",
        "outputId": "ba875439-b6cb-44c3-fe13-2e1dad9c60ee"
      },
      "source": [
        "df['JobTitle'].value_counts()"
      ],
      "execution_count": null,
      "outputs": [
        {
          "output_type": "execute_result",
          "data": {
            "text/plain": [
              "Transit Operator                          7036\n",
              "Special Nurse                             4389\n",
              "Registered Nurse                          3736\n",
              "Public Svc Aide-Public Works              2518\n",
              "Police Officer 3                          2421\n",
              "                                          ... \n",
              "FORENSIC TOXICOLOGIST                        1\n",
              "HUMAN RESOURCES DIRECTOR                     1\n",
              "MANAGER, UNIFIED FAMILY COURT SERVICES       1\n",
              "Undersheriff (SFERS)                         1\n",
              "IS TRAINER - SENIOR                          1\n",
              "Name: JobTitle, Length: 2159, dtype: int64"
            ]
          },
          "metadata": {
            "tags": []
          },
          "execution_count": 10
        }
      ]
    },
    {
      "cell_type": "code",
      "metadata": {
        "colab": {
          "base_uri": "https://localhost:8080/"
        },
        "id": "bdZnTTzQKkvr",
        "outputId": "7cc1b4ae-0307-497f-bf78-eb8d70fa060b"
      },
      "source": [
        "df['JobTitle'].nunique()"
      ],
      "execution_count": null,
      "outputs": [
        {
          "output_type": "execute_result",
          "data": {
            "text/plain": [
              "2159"
            ]
          },
          "metadata": {
            "tags": []
          },
          "execution_count": 11
        }
      ]
    },
    {
      "cell_type": "code",
      "metadata": {
        "colab": {
          "base_uri": "https://localhost:8080/"
        },
        "id": "jhghUjqKKpGH",
        "outputId": "e2f15c88-07d9-4f89-9674-56ab38e85280"
      },
      "source": [
        "df_2011 = df.iloc[(df['Year'] == 2011).values]\n",
        "df_2011.info()"
      ],
      "execution_count": null,
      "outputs": [
        {
          "output_type": "stream",
          "text": [
            "<class 'pandas.core.frame.DataFrame'>\n",
            "Int64Index: 36159 entries, 0 to 36158\n",
            "Data columns (total 13 columns):\n",
            " #   Column            Non-Null Count  Dtype  \n",
            "---  ------            --------------  -----  \n",
            " 0   Id                36159 non-null  int64  \n",
            " 1   EmployeeName      36158 non-null  object \n",
            " 2   JobTitle          36159 non-null  object \n",
            " 3   BasePay           36159 non-null  float64\n",
            " 4   OvertimePay       36159 non-null  float64\n",
            " 5   OtherPay          36159 non-null  float64\n",
            " 6   Benefits          0 non-null      float64\n",
            " 7   TotalPay          36159 non-null  float64\n",
            " 8   TotalPayBenefits  36159 non-null  float64\n",
            " 9   Year              36159 non-null  int64  \n",
            " 10  Notes             0 non-null      float64\n",
            " 11  Agency            36159 non-null  object \n",
            " 12  Status            0 non-null      object \n",
            "dtypes: float64(7), int64(2), object(4)\n",
            "memory usage: 3.9+ MB\n"
          ],
          "name": "stdout"
        }
      ]
    },
    {
      "cell_type": "code",
      "metadata": {
        "colab": {
          "base_uri": "https://localhost:8080/"
        },
        "id": "grIxTrnuL50C",
        "outputId": "8a068801-0af4-4fdd-9955-372d3f9c78f0"
      },
      "source": [
        "df_2012 = df.iloc[(df['Year'] == 2012).values]\n",
        "df_2012.info()"
      ],
      "execution_count": null,
      "outputs": [
        {
          "output_type": "stream",
          "text": [
            "<class 'pandas.core.frame.DataFrame'>\n",
            "Int64Index: 36766 entries, 36159 to 72924\n",
            "Data columns (total 13 columns):\n",
            " #   Column            Non-Null Count  Dtype  \n",
            "---  ------            --------------  -----  \n",
            " 0   Id                36766 non-null  int64  \n",
            " 1   EmployeeName      36765 non-null  object \n",
            " 2   JobTitle          36766 non-null  object \n",
            " 3   BasePay           36766 non-null  float64\n",
            " 4   OvertimePay       36766 non-null  float64\n",
            " 5   OtherPay          36766 non-null  float64\n",
            " 6   Benefits          36766 non-null  float64\n",
            " 7   TotalPay          36766 non-null  float64\n",
            " 8   TotalPayBenefits  36766 non-null  float64\n",
            " 9   Year              36766 non-null  int64  \n",
            " 10  Notes             0 non-null      float64\n",
            " 11  Agency            36766 non-null  object \n",
            " 12  Status            0 non-null      object \n",
            "dtypes: float64(7), int64(2), object(4)\n",
            "memory usage: 3.9+ MB\n"
          ],
          "name": "stdout"
        }
      ]
    },
    {
      "cell_type": "code",
      "metadata": {
        "colab": {
          "base_uri": "https://localhost:8080/"
        },
        "id": "uOzH6nXoMGle",
        "outputId": "5e0f2ab6-7ee4-4298-f1f4-e8bc64a18b61"
      },
      "source": [
        "df_2013 = df.iloc[(df['Year'] == 2013).values]\n",
        "df_2013.info()"
      ],
      "execution_count": null,
      "outputs": [
        {
          "output_type": "stream",
          "text": [
            "<class 'pandas.core.frame.DataFrame'>\n",
            "Int64Index: 37001 entries, 72925 to 110520\n",
            "Data columns (total 13 columns):\n",
            " #   Column            Non-Null Count  Dtype  \n",
            "---  ------            --------------  -----  \n",
            " 0   Id                37001 non-null  int64  \n",
            " 1   EmployeeName      37001 non-null  object \n",
            " 2   JobTitle          37001 non-null  object \n",
            " 3   BasePay           37001 non-null  float64\n",
            " 4   OvertimePay       37001 non-null  float64\n",
            " 5   OtherPay          37001 non-null  float64\n",
            " 6   Benefits          37001 non-null  float64\n",
            " 7   TotalPay          37001 non-null  float64\n",
            " 8   TotalPayBenefits  37001 non-null  float64\n",
            " 9   Year              37001 non-null  int64  \n",
            " 10  Notes             0 non-null      float64\n",
            " 11  Agency            37001 non-null  object \n",
            " 12  Status            0 non-null      object \n",
            "dtypes: float64(7), int64(2), object(4)\n",
            "memory usage: 4.0+ MB\n"
          ],
          "name": "stdout"
        }
      ]
    },
    {
      "cell_type": "code",
      "metadata": {
        "colab": {
          "base_uri": "https://localhost:8080/"
        },
        "id": "LrKVe2aKMLG-",
        "outputId": "6675cdd6-6063-487e-fb70-05eb2db7a622"
      },
      "source": [
        "df_2014 = df.iloc[(df['Year'] == 2014).values]\n",
        "df_2014.info()"
      ],
      "execution_count": null,
      "outputs": [
        {
          "output_type": "stream",
          "text": [
            "<class 'pandas.core.frame.DataFrame'>\n",
            "Int64Index: 38119 entries, 110531 to 148653\n",
            "Data columns (total 13 columns):\n",
            " #   Column            Non-Null Count  Dtype  \n",
            "---  ------            --------------  -----  \n",
            " 0   Id                38119 non-null  int64  \n",
            " 1   EmployeeName      38119 non-null  object \n",
            " 2   JobTitle          38119 non-null  object \n",
            " 3   BasePay           38119 non-null  float64\n",
            " 4   OvertimePay       38119 non-null  float64\n",
            " 5   OtherPay          38119 non-null  float64\n",
            " 6   Benefits          38119 non-null  float64\n",
            " 7   TotalPay          38119 non-null  float64\n",
            " 8   TotalPayBenefits  38119 non-null  float64\n",
            " 9   Year              38119 non-null  int64  \n",
            " 10  Notes             0 non-null      float64\n",
            " 11  Agency            38119 non-null  object \n",
            " 12  Status            38119 non-null  object \n",
            "dtypes: float64(7), int64(2), object(4)\n",
            "memory usage: 4.1+ MB\n"
          ],
          "name": "stdout"
        }
      ]
    },
    {
      "cell_type": "code",
      "metadata": {
        "colab": {
          "base_uri": "https://localhost:8080/",
          "height": 513
        },
        "id": "oKptqaYDOJ3j",
        "outputId": "0d738c87-04fb-4ad5-af90-692e4b89a5e1"
      },
      "source": [
        "# Write your code here\n",
        "import matplotlib.pyplot as plt\n",
        "%matplotlib inline\n",
        "\n",
        "plt.figure(figsize=(13,8))\n",
        "\n",
        "# plot title and axis\n",
        "plt.title('Distribution')\n",
        "plt.xlabel('Base Pay')\n",
        "plt.ylabel('Count')\n",
        "\n",
        "# plot histograms\n",
        "plt.hist(df_2011['BasePay'], bins=20, alpha=0.25, label='2011', color='g')\n",
        "# plt.hist(df_2012['BasePay'], bins=20, alpha=0.25, label='2011', color='y')\n",
        "# plt.hist(df_2013['BasePay'], bins=20, alpha=0.25, label='2011', color='b')\n",
        "plt.hist(df_2014['BasePay'], bins=20, alpha=0.25, label='2014', color='r')\n",
        "\n",
        "# plot means and stds\n",
        "plt.axvline(df_2011['BasePay'].mean(), color='g', linewidth=1)\n",
        "# plt.axvline(df_2012['BasePay'].mean(), color='y', linewidth=1)\n",
        "# plt.axvline(df_2013['BasePay'].mean(), color='b', linewidth=1)\n",
        "plt.axvline(df_2014['BasePay'].mean(), color='r', linewidth=1)\n",
        "\n",
        "# display plot\n",
        "plt.legend(loc='upper right')\n",
        "plt.show()\n"
      ],
      "execution_count": null,
      "outputs": [
        {
          "output_type": "display_data",
          "data": {
            "image/png": "[encoded data removed]",
            "text/plain": [
              "<Figure size 936x576 with 1 Axes>"
            ]
          },
          "metadata": {
            "tags": [],
            "needs_background": "light"
          }
        }
      ]
    },
    {
      "cell_type": "code",
      "metadata": {
        "colab": {
          "base_uri": "https://localhost:8080/",
          "height": 265
        },
        "id": "PhLfENGSR_PB",
        "outputId": "65e30370-54ad-4007-df5e-b226714d7e3d"
      },
      "source": [
        "\n",
        "plt.hist(df_2011['TotalPay'], bins=20, alpha=0.25, label='2011', color='g')\n",
        "plt.hist(df_2014['TotalPay'], bins=20, alpha=0.25, label='2014', color='r')\n",
        "\n",
        "\n",
        "plt.axvline(df_2011['TotalPay'].mean(), color='g', linewidth=1)\n",
        "plt.axvline(df_2014['TotalPay'].mean(), color='r', linewidth=1)\n",
        "\n",
        "plt.legend(loc='upper right')\n",
        "plt.show()"
      ],
      "execution_count": null,
      "outputs": [
        {
          "output_type": "display_data",
          "data": {
            "image/png": "[encoded data removed]",
            "text/plain": [
              "<Figure size 432x288 with 1 Axes>"
            ]
          },
          "metadata": {
            "tags": [],
            "needs_background": "light"
          }
        }
      ]
    },
    {
      "cell_type": "code",
      "metadata": {
        "colab": {
          "base_uri": "https://localhost:8080/"
        },
        "id": "7pV1AmpPMNjd",
        "outputId": "679a53fe-af37-49b6-9dae-479f6cdc1c96"
      },
      "source": [
        "stats.ttest_ind(df_2011['BasePay'],df_2014['BasePay'])"
      ],
      "execution_count": null,
      "outputs": [
        {
          "output_type": "execute_result",
          "data": {
            "text/plain": [
              "Ttest_indResult(statistic=-9.539889046671979, pvalue=1.4711370972099165e-21)"
            ]
          },
          "metadata": {
            "tags": []
          },
          "execution_count": 66
        }
      ]
    },
    {
      "cell_type": "code",
      "metadata": {
        "colab": {
          "base_uri": "https://localhost:8080/"
        },
        "id": "78Msd61eN5u7",
        "outputId": "8b9288cd-7ab1-48e1-853d-a8294e1380ca"
      },
      "source": [
        "df_2011['BasePay'].unique"
      ],
      "execution_count": null,
      "outputs": [
        {
          "output_type": "execute_result",
          "data": {
            "text/plain": [
              "<bound method Series.unique of 0        167411.18\n",
              "1        155966.02\n",
              "2        212739.13\n",
              "3         77916.00\n",
              "4        134401.60\n",
              "           ...    \n",
              "36154         0.00\n",
              "36155         0.00\n",
              "36156         0.00\n",
              "36157         0.00\n",
              "36158         0.00\n",
              "Name: BasePay, Length: 36159, dtype: float64>"
            ]
          },
          "metadata": {
            "tags": []
          },
          "execution_count": 67
        }
      ]
    },
    {
      "cell_type": "code",
      "metadata": {
        "colab": {
          "base_uri": "https://localhost:8080/"
        },
        "id": "QsVUJL42FSW2",
        "outputId": "77784569-9273-487d-9d71-88700302e1e2"
      },
      "source": [
        "stats.ttest_ind(df_2011['OvertimePay'],df_2014['OvertimePay'])"
      ],
      "execution_count": null,
      "outputs": [
        {
          "output_type": "execute_result",
          "data": {
            "text/plain": [
              "Ttest_indResult(statistic=-10.621074010816352, pvalue=2.4839302269902894e-26)"
            ]
          },
          "metadata": {
            "tags": []
          },
          "execution_count": 68
        }
      ]
    },
    {
      "cell_type": "code",
      "metadata": {
        "colab": {
          "base_uri": "https://localhost:8080/"
        },
        "id": "Q0tQx5LtN7vw",
        "outputId": "03fe2d73-3a16-47f9-b4c1-d02ef0db3aba"
      },
      "source": [
        "stats.ttest_ind(df_2011['OtherPay'],df_2014['OtherPay'])"
      ],
      "execution_count": null,
      "outputs": [
        {
          "output_type": "execute_result",
          "data": {
            "text/plain": [
              "Ttest_indResult(statistic=1.9348219126291435, pvalue=0.05301594523875309)"
            ]
          },
          "metadata": {
            "tags": []
          },
          "execution_count": 69
        }
      ]
    },
    {
      "cell_type": "code",
      "metadata": {
        "colab": {
          "base_uri": "https://localhost:8080/"
        },
        "id": "nD_P6JGNDy1k",
        "outputId": "7e941725-df8d-430a-dccd-8f7a82429108"
      },
      "source": [
        "stats.ttest_ind(df_2011['TotalPay'],df_2014['TotalPay'])"
      ],
      "execution_count": null,
      "outputs": [
        {
          "output_type": "execute_result",
          "data": {
            "text/plain": [
              "Ttest_indResult(statistic=-10.21808511640831, pvalue=1.708230711684556e-24)"
            ]
          },
          "metadata": {
            "tags": []
          },
          "execution_count": 70
        }
      ]
    },
    {
      "cell_type": "code",
      "metadata": {
        "colab": {
          "base_uri": "https://localhost:8080/"
        },
        "id": "s0YNiKMCFfil",
        "outputId": "d1390b9f-d829-4ce4-d648-7ea4d1bccf19"
      },
      "source": [
        "stats.ttest_ind(df_2011['TotalPayBenefits'],df_2014['TotalPayBenefits'])"
      ],
      "execution_count": null,
      "outputs": [
        {
          "output_type": "execute_result",
          "data": {
            "text/plain": [
              "Ttest_indResult(statistic=-67.12070721337969, pvalue=0.0)"
            ]
          },
          "metadata": {
            "tags": []
          },
          "execution_count": 71
        }
      ]
    },
    {
      "cell_type": "code",
      "metadata": {
        "colab": {
          "base_uri": "https://localhost:8080/"
        },
        "id": "EkAWwa_GFwSq",
        "outputId": "40e9b902-494b-4075-a028-51c04de010ed"
      },
      "source": [
        "df_2011['TotalPayBenefits']"
      ],
      "execution_count": null,
      "outputs": [
        {
          "output_type": "execute_result",
          "data": {
            "text/plain": [
              "0        567595.43\n",
              "1        538909.28\n",
              "2        335279.91\n",
              "3        332343.61\n",
              "4        326373.19\n",
              "           ...    \n",
              "36154         4.17\n",
              "36155         0.30\n",
              "36156         0.00\n",
              "36157         0.00\n",
              "36158         0.00\n",
              "Name: TotalPayBenefits, Length: 36159, dtype: float64"
            ]
          },
          "metadata": {
            "tags": []
          },
          "execution_count": 72
        }
      ]
    },
    {
      "cell_type": "code",
      "metadata": {
        "colab": {
          "base_uri": "https://localhost:8080/"
        },
        "id": "iCfZOR_7F1je",
        "outputId": "ff606599-4b6d-4359-9449-f2d032955cd3"
      },
      "source": [
        "df_2014['TotalPayBenefits']"
      ],
      "execution_count": null,
      "outputs": [
        {
          "output_type": "execute_result",
          "data": {
            "text/plain": [
              "110531    510732.68\n",
              "110532    479652.21\n",
              "110533    436224.36\n",
              "110534    418019.22\n",
              "110535    417435.10\n",
              "            ...    \n",
              "148645         0.00\n",
              "148647         0.00\n",
              "148648         0.00\n",
              "148649         0.00\n",
              "148653      -618.13\n",
              "Name: TotalPayBenefits, Length: 38119, dtype: float64"
            ]
          },
          "metadata": {
            "tags": []
          },
          "execution_count": 73
        }
      ]
    },
    {
      "cell_type": "code",
      "metadata": {
        "colab": {
          "base_uri": "https://localhost:8080/",
          "height": 502
        },
        "id": "J7cJNuGyGVCz",
        "outputId": "6890fc57-151c-4313-aa88-12627248ece7"
      },
      "source": [
        "import matplotlib.pyplot as plt\n",
        "import seaborn as sns\n",
        "\n",
        "#top 10 jobs by number\n",
        "plt.figure(figsize=(13,8))\n",
        "sectors = df['JobTitle'].value_counts()[0:10]\n",
        "sns.barplot (y=sectors.index, x=sectors.values, alpha=0.6)\n",
        "plt.xlabel('Number of jobs', fontsize = 16)\n",
        "plt.ylabel('Job Title', fontsize = 16)\n",
        "plt.show()"
      ],
      "execution_count": null,
      "outputs": [
        {
          "output_type": "display_data",
          "data": {
            "image/png": "[encoded data removed]",
            "text/plain": [
              "<Figure size 936x576 with 1 Axes>"
            ]
          },
          "metadata": {
            "tags": [],
            "needs_background": "light"
          }
        }
      ]
    },
    {
      "cell_type": "code",
      "metadata": {
        "id": "22M3nIrfYEq1"
      },
      "source": [
        "topfivetitlelist = list(df['JobTitle'].value_counts()[0:5].index.values)"
      ],
      "execution_count": null,
      "outputs": []
    },
    {
      "cell_type": "code",
      "metadata": {
        "colab": {
          "base_uri": "https://localhost:8080/",
          "height": 419
        },
        "id": "2AEuP7fKXFhW",
        "outputId": "b37ab0ba-d953-4e12-c273-82d5db57f0df"
      },
      "source": [
        "top5mostcommonjobtitles = df[df['JobTitle'].isin(topfivetitlelist)]\n",
        "top5mostcommonjobtitles"
      ],
      "execution_count": null,
      "outputs": [
        {
          "output_type": "execute_result",
          "data": {
            "text/html": [
              "<div>\n",
              "<style scoped>\n",
              "    .dataframe tbody tr th:only-of-type {\n",
              "        vertical-align: middle;\n",
              "    }\n",
              "\n",
              "    .dataframe tbody tr th {\n",
              "        vertical-align: top;\n",
              "    }\n",
              "\n",
              "    .dataframe thead th {\n",
              "        text-align: right;\n",
              "    }\n",
              "</style>\n",
              "<table border=\"1\" class=\"dataframe\">\n",
              "  <thead>\n",
              "    <tr style=\"text-align: right;\">\n",
              "      <th></th>\n",
              "      <th>Id</th>\n",
              "      <th>EmployeeName</th>\n",
              "      <th>JobTitle</th>\n",
              "      <th>BasePay</th>\n",
              "      <th>OvertimePay</th>\n",
              "      <th>OtherPay</th>\n",
              "      <th>Benefits</th>\n",
              "      <th>TotalPay</th>\n",
              "      <th>TotalPayBenefits</th>\n",
              "      <th>Year</th>\n",
              "      <th>Notes</th>\n",
              "      <th>Agency</th>\n",
              "      <th>Status</th>\n",
              "    </tr>\n",
              "  </thead>\n",
              "  <tbody>\n",
              "    <tr>\n",
              "      <th>36314</th>\n",
              "      <td>36315</td>\n",
              "      <td>Eric Neff</td>\n",
              "      <td>Police Officer 3</td>\n",
              "      <td>109118.22</td>\n",
              "      <td>27043.59</td>\n",
              "      <td>109131.14</td>\n",
              "      <td>32140.44</td>\n",
              "      <td>245292.95</td>\n",
              "      <td>277433.39</td>\n",
              "      <td>2012</td>\n",
              "      <td>NaN</td>\n",
              "      <td>San Francisco</td>\n",
              "      <td>NaN</td>\n",
              "    </tr>\n",
              "    <tr>\n",
              "      <th>36317</th>\n",
              "      <td>36318</td>\n",
              "      <td>Timothy Gibson</td>\n",
              "      <td>Police Officer 3</td>\n",
              "      <td>95449.67</td>\n",
              "      <td>5481.28</td>\n",
              "      <td>148736.75</td>\n",
              "      <td>27377.58</td>\n",
              "      <td>249667.70</td>\n",
              "      <td>277045.28</td>\n",
              "      <td>2012</td>\n",
              "      <td>NaN</td>\n",
              "      <td>San Francisco</td>\n",
              "      <td>NaN</td>\n",
              "    </tr>\n",
              "    <tr>\n",
              "      <th>36349</th>\n",
              "      <td>36350</td>\n",
              "      <td>Constantine Zachos</td>\n",
              "      <td>Police Officer 3</td>\n",
              "      <td>102265.48</td>\n",
              "      <td>8524.03</td>\n",
              "      <td>112000.30</td>\n",
              "      <td>47492.33</td>\n",
              "      <td>222789.81</td>\n",
              "      <td>270282.14</td>\n",
              "      <td>2012</td>\n",
              "      <td>NaN</td>\n",
              "      <td>San Francisco</td>\n",
              "      <td>NaN</td>\n",
              "    </tr>\n",
              "    <tr>\n",
              "      <th>36478</th>\n",
              "      <td>36479</td>\n",
              "      <td>David Kucia</td>\n",
              "      <td>Police Officer 3</td>\n",
              "      <td>99304.33</td>\n",
              "      <td>18181.32</td>\n",
              "      <td>111506.56</td>\n",
              "      <td>27819.75</td>\n",
              "      <td>228992.21</td>\n",
              "      <td>256811.96</td>\n",
              "      <td>2012</td>\n",
              "      <td>NaN</td>\n",
              "      <td>San Francisco</td>\n",
              "      <td>NaN</td>\n",
              "    </tr>\n",
              "    <tr>\n",
              "      <th>36527</th>\n",
              "      <td>36528</td>\n",
              "      <td>Ruby Martin</td>\n",
              "      <td>Registered Nurse</td>\n",
              "      <td>174044.89</td>\n",
              "      <td>949.50</td>\n",
              "      <td>19811.98</td>\n",
              "      <td>58670.20</td>\n",
              "      <td>194806.37</td>\n",
              "      <td>253476.57</td>\n",
              "      <td>2012</td>\n",
              "      <td>NaN</td>\n",
              "      <td>San Francisco</td>\n",
              "      <td>NaN</td>\n",
              "    </tr>\n",
              "    <tr>\n",
              "      <th>...</th>\n",
              "      <td>...</td>\n",
              "      <td>...</td>\n",
              "      <td>...</td>\n",
              "      <td>...</td>\n",
              "      <td>...</td>\n",
              "      <td>...</td>\n",
              "      <td>...</td>\n",
              "      <td>...</td>\n",
              "      <td>...</td>\n",
              "      <td>...</td>\n",
              "      <td>...</td>\n",
              "      <td>...</td>\n",
              "      <td>...</td>\n",
              "    </tr>\n",
              "    <tr>\n",
              "      <th>148610</th>\n",
              "      <td>148611</td>\n",
              "      <td>Ruby S Martin</td>\n",
              "      <td>Special Nurse</td>\n",
              "      <td>21.22</td>\n",
              "      <td>0.00</td>\n",
              "      <td>0.00</td>\n",
              "      <td>4.99</td>\n",
              "      <td>21.22</td>\n",
              "      <td>26.21</td>\n",
              "      <td>2014</td>\n",
              "      <td>NaN</td>\n",
              "      <td>San Francisco</td>\n",
              "      <td>PT</td>\n",
              "    </tr>\n",
              "    <tr>\n",
              "      <th>148613</th>\n",
              "      <td>148614</td>\n",
              "      <td>Nanette M Lloyd</td>\n",
              "      <td>Special Nurse</td>\n",
              "      <td>19.97</td>\n",
              "      <td>0.00</td>\n",
              "      <td>0.00</td>\n",
              "      <td>4.30</td>\n",
              "      <td>19.97</td>\n",
              "      <td>24.27</td>\n",
              "      <td>2014</td>\n",
              "      <td>NaN</td>\n",
              "      <td>San Francisco</td>\n",
              "      <td>PT</td>\n",
              "    </tr>\n",
              "    <tr>\n",
              "      <th>148615</th>\n",
              "      <td>148616</td>\n",
              "      <td>Marilou P Gan</td>\n",
              "      <td>Registered Nurse</td>\n",
              "      <td>0.00</td>\n",
              "      <td>0.00</td>\n",
              "      <td>19.27</td>\n",
              "      <td>3.97</td>\n",
              "      <td>19.27</td>\n",
              "      <td>23.24</td>\n",
              "      <td>2014</td>\n",
              "      <td>NaN</td>\n",
              "      <td>San Francisco</td>\n",
              "      <td>PT</td>\n",
              "    </tr>\n",
              "    <tr>\n",
              "      <th>148621</th>\n",
              "      <td>148622</td>\n",
              "      <td>Kenneth Mackey</td>\n",
              "      <td>Transit Operator</td>\n",
              "      <td>0.00</td>\n",
              "      <td>0.00</td>\n",
              "      <td>15.35</td>\n",
              "      <td>0.00</td>\n",
              "      <td>15.35</td>\n",
              "      <td>15.35</td>\n",
              "      <td>2014</td>\n",
              "      <td>NaN</td>\n",
              "      <td>San Francisco</td>\n",
              "      <td>PT</td>\n",
              "    </tr>\n",
              "    <tr>\n",
              "      <th>148625</th>\n",
              "      <td>148626</td>\n",
              "      <td>Renato C Gurion</td>\n",
              "      <td>Registered Nurse</td>\n",
              "      <td>0.00</td>\n",
              "      <td>0.00</td>\n",
              "      <td>6.00</td>\n",
              "      <td>1.24</td>\n",
              "      <td>6.00</td>\n",
              "      <td>7.24</td>\n",
              "      <td>2014</td>\n",
              "      <td>NaN</td>\n",
              "      <td>San Francisco</td>\n",
              "      <td>PT</td>\n",
              "    </tr>\n",
              "  </tbody>\n",
              "</table>\n",
              "<p>20007 rows × 13 columns</p>\n",
              "</div>"
            ],
            "text/plain": [
              "            Id        EmployeeName  ...         Agency  Status\n",
              "36314    36315           Eric Neff  ...  San Francisco     NaN\n",
              "36317    36318      Timothy Gibson  ...  San Francisco     NaN\n",
              "36349    36350  Constantine Zachos  ...  San Francisco     NaN\n",
              "36478    36479         David Kucia  ...  San Francisco     NaN\n",
              "36527    36528         Ruby Martin  ...  San Francisco     NaN\n",
              "...        ...                 ...  ...            ...     ...\n",
              "148610  148611       Ruby S Martin  ...  San Francisco      PT\n",
              "148613  148614     Nanette M Lloyd  ...  San Francisco      PT\n",
              "148615  148616       Marilou P Gan  ...  San Francisco      PT\n",
              "148621  148622      Kenneth Mackey  ...  San Francisco      PT\n",
              "148625  148626     Renato C Gurion  ...  San Francisco      PT\n",
              "\n",
              "[20007 rows x 13 columns]"
            ]
          },
          "metadata": {
            "tags": []
          },
          "execution_count": 126
        }
      ]
    },
    {
      "cell_type": "code",
      "metadata": {
        "colab": {
          "base_uri": "https://localhost:8080/"
        },
        "id": "gnCyojm6YrLg",
        "outputId": "5ee67b1b-64b4-4c49-e59c-b042ef66730b"
      },
      "source": [
        "top5mostcommonjobtitles_2011 = top5mostcommonjobtitles.iloc[(top5mostcommonjobtitles['Year'] == 2011).values]\n",
        "top5mostcommonjobtitles_2011.info()"
      ],
      "execution_count": null,
      "outputs": [
        {
          "output_type": "stream",
          "text": [
            "<class 'pandas.core.frame.DataFrame'>\n",
            "Int64Index: 0 entries\n",
            "Data columns (total 13 columns):\n",
            " #   Column            Non-Null Count  Dtype  \n",
            "---  ------            --------------  -----  \n",
            " 0   Id                0 non-null      int64  \n",
            " 1   EmployeeName      0 non-null      object \n",
            " 2   JobTitle          0 non-null      object \n",
            " 3   BasePay           0 non-null      float64\n",
            " 4   OvertimePay       0 non-null      float64\n",
            " 5   OtherPay          0 non-null      float64\n",
            " 6   Benefits          0 non-null      float64\n",
            " 7   TotalPay          0 non-null      float64\n",
            " 8   TotalPayBenefits  0 non-null      float64\n",
            " 9   Year              0 non-null      int64  \n",
            " 10  Notes             0 non-null      float64\n",
            " 11  Agency            0 non-null      object \n",
            " 12  Status            0 non-null      object \n",
            "dtypes: float64(7), int64(2), object(4)\n",
            "memory usage: 0.0+ bytes\n"
          ],
          "name": "stdout"
        }
      ]
    },
    {
      "cell_type": "code",
      "metadata": {
        "colab": {
          "base_uri": "https://localhost:8080/"
        },
        "id": "aL3uNK9tZNr7",
        "outputId": "59d59f54-7dd1-4e7b-864a-39cd95e3275d"
      },
      "source": [
        "top5mostcommonjobtitles_2012 = top5mostcommonjobtitles.iloc[(top5mostcommonjobtitles['Year'] == 2012).values]\n",
        "top5mostcommonjobtitles_2012.info()"
      ],
      "execution_count": null,
      "outputs": [
        {
          "output_type": "stream",
          "text": [
            "<class 'pandas.core.frame.DataFrame'>\n",
            "Int64Index: 6606 entries, 36314 to 72924\n",
            "Data columns (total 13 columns):\n",
            " #   Column            Non-Null Count  Dtype  \n",
            "---  ------            --------------  -----  \n",
            " 0   Id                6606 non-null   int64  \n",
            " 1   EmployeeName      6606 non-null   object \n",
            " 2   JobTitle          6606 non-null   object \n",
            " 3   BasePay           6606 non-null   float64\n",
            " 4   OvertimePay       6606 non-null   float64\n",
            " 5   OtherPay          6606 non-null   float64\n",
            " 6   Benefits          6606 non-null   float64\n",
            " 7   TotalPay          6606 non-null   float64\n",
            " 8   TotalPayBenefits  6606 non-null   float64\n",
            " 9   Year              6606 non-null   int64  \n",
            " 10  Notes             0 non-null      float64\n",
            " 11  Agency            6606 non-null   object \n",
            " 12  Status            0 non-null      object \n",
            "dtypes: float64(7), int64(2), object(4)\n",
            "memory usage: 722.5+ KB\n"
          ],
          "name": "stdout"
        }
      ]
    },
    {
      "cell_type": "code",
      "metadata": {
        "colab": {
          "base_uri": "https://localhost:8080/"
        },
        "id": "kIXzfs_yZTQ-",
        "outputId": "8407d38d-5630-49a2-99d1-442779ab6272"
      },
      "source": [
        "top5mostcommonjobtitles_2013 = top5mostcommonjobtitles.iloc[(top5mostcommonjobtitles['Year'] == 2013).values]\n",
        "top5mostcommonjobtitles_2013.info()"
      ],
      "execution_count": null,
      "outputs": [
        {
          "output_type": "stream",
          "text": [
            "<class 'pandas.core.frame.DataFrame'>\n",
            "Int64Index: 6511 entries, 73161 to 110513\n",
            "Data columns (total 13 columns):\n",
            " #   Column            Non-Null Count  Dtype  \n",
            "---  ------            --------------  -----  \n",
            " 0   Id                6511 non-null   int64  \n",
            " 1   EmployeeName      6511 non-null   object \n",
            " 2   JobTitle          6511 non-null   object \n",
            " 3   BasePay           6511 non-null   float64\n",
            " 4   OvertimePay       6511 non-null   float64\n",
            " 5   OtherPay          6511 non-null   float64\n",
            " 6   Benefits          6511 non-null   float64\n",
            " 7   TotalPay          6511 non-null   float64\n",
            " 8   TotalPayBenefits  6511 non-null   float64\n",
            " 9   Year              6511 non-null   int64  \n",
            " 10  Notes             0 non-null      float64\n",
            " 11  Agency            6511 non-null   object \n",
            " 12  Status            0 non-null      object \n",
            "dtypes: float64(7), int64(2), object(4)\n",
            "memory usage: 712.1+ KB\n"
          ],
          "name": "stdout"
        }
      ]
    },
    {
      "cell_type": "code",
      "metadata": {
        "colab": {
          "base_uri": "https://localhost:8080/"
        },
        "id": "Ja3WGZrBZXF2",
        "outputId": "73b6946f-5d95-4166-b4a4-6a346240c08f"
      },
      "source": [
        "top5mostcommonjobtitles_2014 = top5mostcommonjobtitles.iloc[(top5mostcommonjobtitles['Year'] == 2014).values]\n",
        "top5mostcommonjobtitles_2014.info()"
      ],
      "execution_count": null,
      "outputs": [
        {
          "output_type": "stream",
          "text": [
            "<class 'pandas.core.frame.DataFrame'>\n",
            "Int64Index: 6890 entries, 110617 to 148625\n",
            "Data columns (total 13 columns):\n",
            " #   Column            Non-Null Count  Dtype  \n",
            "---  ------            --------------  -----  \n",
            " 0   Id                6890 non-null   int64  \n",
            " 1   EmployeeName      6890 non-null   object \n",
            " 2   JobTitle          6890 non-null   object \n",
            " 3   BasePay           6890 non-null   float64\n",
            " 4   OvertimePay       6890 non-null   float64\n",
            " 5   OtherPay          6890 non-null   float64\n",
            " 6   Benefits          6890 non-null   float64\n",
            " 7   TotalPay          6890 non-null   float64\n",
            " 8   TotalPayBenefits  6890 non-null   float64\n",
            " 9   Year              6890 non-null   int64  \n",
            " 10  Notes             0 non-null      float64\n",
            " 11  Agency            6890 non-null   object \n",
            " 12  Status            6890 non-null   object \n",
            "dtypes: float64(7), int64(2), object(4)\n",
            "memory usage: 753.6+ KB\n"
          ],
          "name": "stdout"
        }
      ]
    },
    {
      "cell_type": "code",
      "metadata": {
        "colab": {
          "base_uri": "https://localhost:8080/"
        },
        "id": "PEuNml93Zu_S",
        "outputId": "7d37608f-a3ec-41d5-c200-56469f28ccc5"
      },
      "source": [
        "stats.ttest_ind(top5mostcommonjobtitles_2012['TotalPay'],top5mostcommonjobtitles_2013['TotalPay'])"
      ],
      "execution_count": null,
      "outputs": [
        {
          "output_type": "execute_result",
          "data": {
            "text/plain": [
              "Ttest_indResult(statistic=-3.3611868322096026, pvalue=0.0007782990707349887)"
            ]
          },
          "metadata": {
            "tags": []
          },
          "execution_count": 136
        }
      ]
    },
    {
      "cell_type": "code",
      "metadata": {
        "colab": {
          "base_uri": "https://localhost:8080/"
        },
        "id": "U4NzrCAmZj_o",
        "outputId": "d3827e4d-44f3-4340-f082-fb80b934a864"
      },
      "source": [
        "stats.ttest_ind(top5mostcommonjobtitles_2013['TotalPay'],top5mostcommonjobtitles_2014['TotalPay'])"
      ],
      "execution_count": null,
      "outputs": [
        {
          "output_type": "execute_result",
          "data": {
            "text/plain": [
              "Ttest_indResult(statistic=5.137402086433636, pvalue=2.82475577267574e-07)"
            ]
          },
          "metadata": {
            "tags": []
          },
          "execution_count": 135
        }
      ]
    },
    {
      "cell_type": "code",
      "metadata": {
        "id": "TfrlbU-rbUou",
        "colab": {
          "base_uri": "https://localhost:8080/"
        },
        "outputId": "909d66f9-b047-4975-f879-66f015e0bbd4"
      },
      "source": [
        "stats.ttest_ind(top5mostcommonjobtitles_2012['TotalPay'],top5mostcommonjobtitles_2014['TotalPay'])"
      ],
      "execution_count": null,
      "outputs": [
        {
          "output_type": "execute_result",
          "data": {
            "text/plain": [
              "Ttest_indResult(statistic=1.8789540524138946, pvalue=0.0602723037973523)"
            ]
          },
          "metadata": {
            "tags": []
          },
          "execution_count": 143
        }
      ]
    },
    {
      "cell_type": "code",
      "metadata": {
        "colab": {
          "base_uri": "https://localhost:8080/"
        },
        "id": "Ykx1lefUabWE",
        "outputId": "ef2dcd32-31b5-450e-aedc-49f896245e98"
      },
      "source": [
        "top5mostcommonjobtitles_2012['TotalPay'].mean()"
      ],
      "execution_count": null,
      "outputs": [
        {
          "output_type": "execute_result",
          "data": {
            "text/plain": [
              "68569.42554647273"
            ]
          },
          "metadata": {
            "tags": []
          },
          "execution_count": 138
        }
      ]
    },
    {
      "cell_type": "code",
      "metadata": {
        "colab": {
          "base_uri": "https://localhost:8080/"
        },
        "id": "lHRl1iE2aiGE",
        "outputId": "f558cc17-df7f-4c51-a618-7cb38731af6e"
      },
      "source": [
        "top5mostcommonjobtitles_2013['TotalPay'].mean()"
      ],
      "execution_count": null,
      "outputs": [
        {
          "output_type": "execute_result",
          "data": {
            "text/plain": [
              "71593.31013822755"
            ]
          },
          "metadata": {
            "tags": []
          },
          "execution_count": 139
        }
      ]
    },
    {
      "cell_type": "code",
      "metadata": {
        "colab": {
          "base_uri": "https://localhost:8080/"
        },
        "id": "A5O29tB1alJu",
        "outputId": "fd9ffd9f-7ec1-49a0-d6f6-8038257459ad"
      },
      "source": [
        "top5mostcommonjobtitles_2014['TotalPay'].mean()"
      ],
      "execution_count": null,
      "outputs": [
        {
          "output_type": "execute_result",
          "data": {
            "text/plain": [
              "66906.14685050717"
            ]
          },
          "metadata": {
            "tags": []
          },
          "execution_count": 140
        }
      ]
    },
    {
      "cell_type": "code",
      "metadata": {
        "colab": {
          "base_uri": "https://localhost:8080/",
          "height": 265
        },
        "id": "DKGuHD4hapCF",
        "outputId": "272ab954-56f6-4f12-d4d7-b064df53c665"
      },
      "source": [
        "sns.barplot(y=[top5mostcommonjobtitles_2012['TotalPay'].mean(),\n",
        "               top5mostcommonjobtitles_2013['TotalPay'].mean(),\n",
        "               top5mostcommonjobtitles_2014['TotalPay'].mean()],\n",
        "            x=[2012,2013,2014])\n",
        "\n",
        "plt.show()"
      ],
      "execution_count": null,
      "outputs": [
        {
          "output_type": "display_data",
          "data": {
            "image/png": "[encoded data removed]",
            "text/plain": [
              "<Figure size 432x288 with 1 Axes>"
            ]
          },
          "metadata": {
            "tags": [],
            "needs_background": "light"
          }
        }
      ]
    },
    {
      "cell_type": "code",
      "metadata": {
        "colab": {
          "base_uri": "https://localhost:8080/",
          "height": 296
        },
        "id": "FRHLBOl_PehA",
        "outputId": "98219fa9-30b5-4548-86ce-3a25c080f96b"
      },
      "source": [
        "sns.scatterplot(x='BasePay', y='TotalPay', data=df)"
      ],
      "execution_count": null,
      "outputs": [
        {
          "output_type": "execute_result",
          "data": {
            "text/plain": [
              "<matplotlib.axes._subplots.AxesSubplot at 0x7f03ce362e10>"
            ]
          },
          "metadata": {
            "tags": []
          },
          "execution_count": 100
        },
        {
          "output_type": "display_data",
          "data": {
            "image/png": "[encoded data removed]",
            "text/plain": [
              "<Figure size 432x288 with 1 Axes>"
            ]
          },
          "metadata": {
            "tags": [],
            "needs_background": "light"
          }
        }
      ]
    },
    {
      "cell_type": "code",
      "metadata": {
        "colab": {
          "base_uri": "https://localhost:8080/"
        },
        "id": "hnzCnIerSzhf",
        "outputId": "4825551b-be70-4756-fc2b-6d75d1cb5c87"
      },
      "source": [
        "#mean for total pay top 10\n",
        "tten_totalpay = round(df.groupby(['JobTitle'])['TotalPay'].mean(),3).nlargest(10)\n",
        "tten_totalpay"
      ],
      "execution_count": null,
      "outputs": [
        {
          "output_type": "execute_result",
          "data": {
            "text/plain": [
              "JobTitle\n",
              "GENERAL MANAGER-METROPOLITAN TRANSIT AUTHORITY    399211.275\n",
              "Chief Investment Officer                          339653.700\n",
              "Chief of Police                                   329183.647\n",
              "Chief, Fire Department                            325971.683\n",
              "DEPUTY DIRECTOR OF INVESTMENTS                    307899.460\n",
              "CHIEF OF DEPARTMENT, (FIRE DEPARTMENT)            302377.730\n",
              "Gen Mgr, Public Trnsp Dept                        297769.413\n",
              "Asst Chf of Dept (Fire Dept)                      281763.484\n",
              "DEPUTY CHIEF OF DEPARTMENT,(FIRE DEPARTMENT)      279359.560\n",
              "Dep Dir for Investments, Ret                      278592.545\n",
              "Name: TotalPay, dtype: float64"
            ]
          },
          "metadata": {
            "tags": []
          },
          "execution_count": 109
        }
      ]
    },
    {
      "cell_type": "code",
      "metadata": {
        "colab": {
          "base_uri": "https://localhost:8080/",
          "height": 111
        },
        "id": "Nc1MTdIDTVSt",
        "outputId": "6366284d-442c-4928-d371-101b64446522"
      },
      "source": [
        "toppayingjob = df[df['JobTitle']=='GENERAL MANAGER-METROPOLITAN TRANSIT AUTHORITY']\n",
        "toppayingjob"
      ],
      "execution_count": null,
      "outputs": [
        {
          "output_type": "execute_result",
          "data": {
            "text/html": [
              "<div>\n",
              "<style scoped>\n",
              "    .dataframe tbody tr th:only-of-type {\n",
              "        vertical-align: middle;\n",
              "    }\n",
              "\n",
              "    .dataframe tbody tr th {\n",
              "        vertical-align: top;\n",
              "    }\n",
              "\n",
              "    .dataframe thead th {\n",
              "        text-align: right;\n",
              "    }\n",
              "</style>\n",
              "<table border=\"1\" class=\"dataframe\">\n",
              "  <thead>\n",
              "    <tr style=\"text-align: right;\">\n",
              "      <th></th>\n",
              "      <th>Id</th>\n",
              "      <th>EmployeeName</th>\n",
              "      <th>JobTitle</th>\n",
              "      <th>BasePay</th>\n",
              "      <th>OvertimePay</th>\n",
              "      <th>OtherPay</th>\n",
              "      <th>Benefits</th>\n",
              "      <th>TotalPay</th>\n",
              "      <th>TotalPayBenefits</th>\n",
              "      <th>Year</th>\n",
              "      <th>Notes</th>\n",
              "      <th>Agency</th>\n",
              "      <th>Status</th>\n",
              "    </tr>\n",
              "  </thead>\n",
              "  <tbody>\n",
              "    <tr>\n",
              "      <th>0</th>\n",
              "      <td>1</td>\n",
              "      <td>NATHANIEL FORD</td>\n",
              "      <td>GENERAL MANAGER-METROPOLITAN TRANSIT AUTHORITY</td>\n",
              "      <td>167411.18</td>\n",
              "      <td>0.0</td>\n",
              "      <td>400184.25</td>\n",
              "      <td>NaN</td>\n",
              "      <td>567595.43</td>\n",
              "      <td>567595.43</td>\n",
              "      <td>2011</td>\n",
              "      <td>NaN</td>\n",
              "      <td>San Francisco</td>\n",
              "      <td>NaN</td>\n",
              "    </tr>\n",
              "    <tr>\n",
              "      <th>83</th>\n",
              "      <td>84</td>\n",
              "      <td>EDWARD REISKIN</td>\n",
              "      <td>GENERAL MANAGER-METROPOLITAN TRANSIT AUTHORITY</td>\n",
              "      <td>230827.12</td>\n",
              "      <td>0.0</td>\n",
              "      <td>0.00</td>\n",
              "      <td>NaN</td>\n",
              "      <td>230827.12</td>\n",
              "      <td>230827.12</td>\n",
              "      <td>2011</td>\n",
              "      <td>NaN</td>\n",
              "      <td>San Francisco</td>\n",
              "      <td>NaN</td>\n",
              "    </tr>\n",
              "  </tbody>\n",
              "</table>\n",
              "</div>"
            ],
            "text/plain": [
              "    Id    EmployeeName  ...         Agency  Status\n",
              "0    1  NATHANIEL FORD  ...  San Francisco     NaN\n",
              "83  84  EDWARD REISKIN  ...  San Francisco     NaN\n",
              "\n",
              "[2 rows x 13 columns]"
            ]
          },
          "metadata": {
            "tags": []
          },
          "execution_count": 113
        }
      ]
    },
    {
      "cell_type": "code",
      "metadata": {
        "colab": {
          "base_uri": "https://localhost:8080/",
          "height": 80
        },
        "id": "C7WfoyRuVDc6",
        "outputId": "ca5d4c35-3016-42b7-d4a6-55c5ebd863b9"
      },
      "source": [
        "secondpayingjob = df[df['JobTitle']=='Chief Investment Officer']\n",
        "secondpayingjob"
      ],
      "execution_count": null,
      "outputs": [
        {
          "output_type": "execute_result",
          "data": {
            "text/html": [
              "<div>\n",
              "<style scoped>\n",
              "    .dataframe tbody tr th:only-of-type {\n",
              "        vertical-align: middle;\n",
              "    }\n",
              "\n",
              "    .dataframe tbody tr th {\n",
              "        vertical-align: top;\n",
              "    }\n",
              "\n",
              "    .dataframe thead th {\n",
              "        text-align: right;\n",
              "    }\n",
              "</style>\n",
              "<table border=\"1\" class=\"dataframe\">\n",
              "  <thead>\n",
              "    <tr style=\"text-align: right;\">\n",
              "      <th></th>\n",
              "      <th>Id</th>\n",
              "      <th>EmployeeName</th>\n",
              "      <th>JobTitle</th>\n",
              "      <th>BasePay</th>\n",
              "      <th>OvertimePay</th>\n",
              "      <th>OtherPay</th>\n",
              "      <th>Benefits</th>\n",
              "      <th>TotalPay</th>\n",
              "      <th>TotalPayBenefits</th>\n",
              "      <th>Year</th>\n",
              "      <th>Notes</th>\n",
              "      <th>Agency</th>\n",
              "      <th>Status</th>\n",
              "    </tr>\n",
              "  </thead>\n",
              "  <tbody>\n",
              "    <tr>\n",
              "      <th>110533</th>\n",
              "      <td>110534</td>\n",
              "      <td>William J Coaker Jr.</td>\n",
              "      <td>Chief Investment Officer</td>\n",
              "      <td>257340.0</td>\n",
              "      <td>0.0</td>\n",
              "      <td>82313.7</td>\n",
              "      <td>96570.66</td>\n",
              "      <td>339653.7</td>\n",
              "      <td>436224.36</td>\n",
              "      <td>2014</td>\n",
              "      <td>NaN</td>\n",
              "      <td>San Francisco</td>\n",
              "      <td>PT</td>\n",
              "    </tr>\n",
              "  </tbody>\n",
              "</table>\n",
              "</div>"
            ],
            "text/plain": [
              "            Id          EmployeeName  ...         Agency  Status\n",
              "110533  110534  William J Coaker Jr.  ...  San Francisco      PT\n",
              "\n",
              "[1 rows x 13 columns]"
            ]
          },
          "metadata": {
            "tags": []
          },
          "execution_count": 115
        }
      ]
    },
    {
      "cell_type": "code",
      "metadata": {
        "colab": {
          "base_uri": "https://localhost:8080/"
        },
        "id": "qyVKzU0BVTwe",
        "outputId": "042fdd3d-32c6-4811-ba14-4c130ebe7c81"
      },
      "source": [
        "#median for total pay top 10\n",
        "tten_totalpay_median = round(df.groupby(['JobTitle'])['TotalPay'].median(),3).nlargest(10)\n",
        "tten_totalpay_median"
      ],
      "execution_count": null,
      "outputs": [
        {
          "output_type": "execute_result",
          "data": {
            "text/plain": [
              "JobTitle\n",
              "GENERAL MANAGER-METROPOLITAN TRANSIT AUTHORITY    399211.275\n",
              "Chief Investment Officer                          339653.700\n",
              "Chief of Police                                   326716.760\n",
              "Chief, Fire Department                            326233.440\n",
              "DEPUTY DIRECTOR OF INVESTMENTS                    307899.460\n",
              "CHIEF OF DEPARTMENT, (FIRE DEPARTMENT)            302377.730\n",
              "Gen Mgr, Public Trnsp Dept                        294000.180\n",
              "Dep Chf of Dept (Fire Dept)                       287489.840\n",
              "Mayor                                             281537.170\n",
              "Asst Chf of Dept (Fire Dept)                      280219.140\n",
              "Name: TotalPay, dtype: float64"
            ]
          },
          "metadata": {
            "tags": []
          },
          "execution_count": 116
        }
      ]
    },
    {
      "cell_type": "code",
      "metadata": {
        "id": "N8axVUmTVhhd"
      },
      "source": [
        ""
      ],
      "execution_count": null,
      "outputs": []
    }
  ]
}