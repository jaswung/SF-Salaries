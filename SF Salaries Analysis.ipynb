{
  "nbformat": 4,
  "nbformat_minor": 0,
  "metadata": {
    "colab": {
      "name": "Thinkful Capstone 3 SF Salaries Final.ipynb",
      "provenance": []
    },
    "kernelspec": {
      "name": "python3",
      "display_name": "Python 3"
    },
    "language_info": {
      "name": "python"
    }
  },
  "cells": [
    {
      "cell_type": "markdown",
      "metadata": {
        "id": "hU-c4OeqgUm3"
      },
      "source": [
        "Business question: How have salaries changed over time between different groups of people in San Francisco?"
      ]
    },
    {
      "cell_type": "markdown",
      "metadata": {
        "id": "KET1jjPMZXwE"
      },
      "source": [
        "The data contains the names, job title, and compensation for SF city employees on an annual basis from 2011 to 2014. \n",
        "\n",
        "\n",
        "Hypothesis 1: people’s pay has increased overtime for all job titles. \n",
        "\n",
        "Hypothesis 2: for the top 5 job titles, totalpay has increased overtime\n",
        "\n",
        "I will be using looking at base pay, overtime pay, other pay and total pay to conduct the analysis. \n",
        "All the data is continuous data. \n",
        "\n",
        "The proposal will be beneficial to users such as company hiring managers trying to figure out pay scale within the company. \n"
      ]
    },
    {
      "cell_type": "code",
      "metadata": {
        "colab": {
          "base_uri": "https://localhost:8080/"
        },
        "id": "2Yx9ZUauP1BQ",
        "outputId": "38abbeca-0963-47b9-ba46-e2e0692de844"
      },
      "source": [
        "from google.colab import drive\n",
        "drive.mount('/content/drive')"
      ],
      "execution_count": null,
      "outputs": [
        {
          "output_type": "stream",
          "text": [
            "Mounted at /content/drive\n"
          ],
          "name": "stdout"
        }
      ]
    },
    {
      "cell_type": "code",
      "metadata": {
        "colab": {
          "base_uri": "https://localhost:8080/"
        },
        "id": "TD-R-EZmHI2g",
        "outputId": "8069b804-917b-4d61-9ad1-ec730488ff85"
      },
      "source": [
        "data_path = '/content/drive/MyDrive/Thinkful/Capstone 3/archive/Salaries.csv'\n",
        "import pandas as pd\n",
        "from scipy import stats\n",
        "import seaborn as sns\n",
        "df = pd.read_csv(data_path, na_values = 'Not Provided')"
      ],
      "execution_count": null,
      "outputs": [
        {
          "output_type": "stream",
          "text": [
            "/usr/local/lib/python3.7/dist-packages/IPython/core/interactiveshell.py:2718: DtypeWarning: Columns (12) have mixed types.Specify dtype option on import or set low_memory=False.\n",
            "  interactivity=interactivity, compiler=compiler, result=result)\n"
          ],
          "name": "stderr"
        }
      ]
    },
    {
      "cell_type": "code",
      "metadata": {
        "colab": {
          "base_uri": "https://localhost:8080/"
        },
        "id": "ZJ7ddbKiHdru",
        "outputId": "5258a7cc-06e7-456c-9e22-ebc9b343bb46"
      },
      "source": [
        "#find number of column and row\n",
        "df.shape"
      ],
      "execution_count": null,
      "outputs": [
        {
          "output_type": "execute_result",
          "data": {
            "text/plain": [
              "(148654, 13)"
            ]
          },
          "metadata": {
            "tags": []
          },
          "execution_count": 5
        }
      ]
    },
    {
      "cell_type": "code",
      "metadata": {
        "colab": {
          "base_uri": "https://localhost:8080/",
          "height": 297
        },
        "id": "NuL-0LfzIEaP",
        "outputId": "9da7a22f-60f1-44f7-d349-412659ff8fc1"
      },
      "source": [
        "#basic stats\n",
        "df.describe()"
      ],
      "execution_count": null,
      "outputs": [
        {
          "output_type": "execute_result",
          "data": {
            "text/html": [
              "<div>\n",
              "<style scoped>\n",
              "    .dataframe tbody tr th:only-of-type {\n",
              "        vertical-align: middle;\n",
              "    }\n",
              "\n",
              "    .dataframe tbody tr th {\n",
              "        vertical-align: top;\n",
              "    }\n",
              "\n",
              "    .dataframe thead th {\n",
              "        text-align: right;\n",
              "    }\n",
              "</style>\n",
              "<table border=\"1\" class=\"dataframe\">\n",
              "  <thead>\n",
              "    <tr style=\"text-align: right;\">\n",
              "      <th></th>\n",
              "      <th>Id</th>\n",
              "      <th>BasePay</th>\n",
              "      <th>OvertimePay</th>\n",
              "      <th>OtherPay</th>\n",
              "      <th>Benefits</th>\n",
              "      <th>TotalPay</th>\n",
              "      <th>TotalPayBenefits</th>\n",
              "      <th>Year</th>\n",
              "      <th>Notes</th>\n",
              "    </tr>\n",
              "  </thead>\n",
              "  <tbody>\n",
              "    <tr>\n",
              "      <th>count</th>\n",
              "      <td>148654.000000</td>\n",
              "      <td>148045.000000</td>\n",
              "      <td>148650.000000</td>\n",
              "      <td>148650.000000</td>\n",
              "      <td>112491.000000</td>\n",
              "      <td>148654.000000</td>\n",
              "      <td>148654.000000</td>\n",
              "      <td>148654.000000</td>\n",
              "      <td>0.0</td>\n",
              "    </tr>\n",
              "    <tr>\n",
              "      <th>mean</th>\n",
              "      <td>74327.500000</td>\n",
              "      <td>66325.448841</td>\n",
              "      <td>5066.059886</td>\n",
              "      <td>3648.767297</td>\n",
              "      <td>25007.893151</td>\n",
              "      <td>74768.321972</td>\n",
              "      <td>93692.554811</td>\n",
              "      <td>2012.522643</td>\n",
              "      <td>NaN</td>\n",
              "    </tr>\n",
              "    <tr>\n",
              "      <th>std</th>\n",
              "      <td>42912.857795</td>\n",
              "      <td>42764.635495</td>\n",
              "      <td>11454.380559</td>\n",
              "      <td>8056.601866</td>\n",
              "      <td>15402.215858</td>\n",
              "      <td>50517.005274</td>\n",
              "      <td>62793.533483</td>\n",
              "      <td>1.117538</td>\n",
              "      <td>NaN</td>\n",
              "    </tr>\n",
              "    <tr>\n",
              "      <th>min</th>\n",
              "      <td>1.000000</td>\n",
              "      <td>-166.010000</td>\n",
              "      <td>-0.010000</td>\n",
              "      <td>-7058.590000</td>\n",
              "      <td>-33.890000</td>\n",
              "      <td>-618.130000</td>\n",
              "      <td>-618.130000</td>\n",
              "      <td>2011.000000</td>\n",
              "      <td>NaN</td>\n",
              "    </tr>\n",
              "    <tr>\n",
              "      <th>25%</th>\n",
              "      <td>37164.250000</td>\n",
              "      <td>33588.200000</td>\n",
              "      <td>0.000000</td>\n",
              "      <td>0.000000</td>\n",
              "      <td>11535.395000</td>\n",
              "      <td>36168.995000</td>\n",
              "      <td>44065.650000</td>\n",
              "      <td>2012.000000</td>\n",
              "      <td>NaN</td>\n",
              "    </tr>\n",
              "    <tr>\n",
              "      <th>50%</th>\n",
              "      <td>74327.500000</td>\n",
              "      <td>65007.450000</td>\n",
              "      <td>0.000000</td>\n",
              "      <td>811.270000</td>\n",
              "      <td>28628.620000</td>\n",
              "      <td>71426.610000</td>\n",
              "      <td>92404.090000</td>\n",
              "      <td>2013.000000</td>\n",
              "      <td>NaN</td>\n",
              "    </tr>\n",
              "    <tr>\n",
              "      <th>75%</th>\n",
              "      <td>111490.750000</td>\n",
              "      <td>94691.050000</td>\n",
              "      <td>4658.175000</td>\n",
              "      <td>4236.065000</td>\n",
              "      <td>35566.855000</td>\n",
              "      <td>105839.135000</td>\n",
              "      <td>132876.450000</td>\n",
              "      <td>2014.000000</td>\n",
              "      <td>NaN</td>\n",
              "    </tr>\n",
              "    <tr>\n",
              "      <th>max</th>\n",
              "      <td>148654.000000</td>\n",
              "      <td>319275.010000</td>\n",
              "      <td>245131.880000</td>\n",
              "      <td>400184.250000</td>\n",
              "      <td>96570.660000</td>\n",
              "      <td>567595.430000</td>\n",
              "      <td>567595.430000</td>\n",
              "      <td>2014.000000</td>\n",
              "      <td>NaN</td>\n",
              "    </tr>\n",
              "  </tbody>\n",
              "</table>\n",
              "</div>"
            ],
            "text/plain": [
              "                  Id        BasePay  ...           Year  Notes\n",
              "count  148654.000000  148045.000000  ...  148654.000000    0.0\n",
              "mean    74327.500000   66325.448841  ...    2012.522643    NaN\n",
              "std     42912.857795   42764.635495  ...       1.117538    NaN\n",
              "min         1.000000    -166.010000  ...    2011.000000    NaN\n",
              "25%     37164.250000   33588.200000  ...    2012.000000    NaN\n",
              "50%     74327.500000   65007.450000  ...    2013.000000    NaN\n",
              "75%    111490.750000   94691.050000  ...    2014.000000    NaN\n",
              "max    148654.000000  319275.010000  ...    2014.000000    NaN\n",
              "\n",
              "[8 rows x 9 columns]"
            ]
          },
          "metadata": {
            "tags": []
          },
          "execution_count": 6
        }
      ]
    },
    {
      "cell_type": "code",
      "metadata": {
        "colab": {
          "base_uri": "https://localhost:8080/",
          "height": 589
        },
        "id": "AG5GI6YLILPv",
        "outputId": "dfd8d8a8-db80-4b9a-eb59-5aff0f64467c"
      },
      "source": [
        "#looking at table\n",
        "df"
      ],
      "execution_count": null,
      "outputs": [
        {
          "output_type": "execute_result",
          "data": {
            "text/html": [
              "<div>\n",
              "<style scoped>\n",
              "    .dataframe tbody tr th:only-of-type {\n",
              "        vertical-align: middle;\n",
              "    }\n",
              "\n",
              "    .dataframe tbody tr th {\n",
              "        vertical-align: top;\n",
              "    }\n",
              "\n",
              "    .dataframe thead th {\n",
              "        text-align: right;\n",
              "    }\n",
              "</style>\n",
              "<table border=\"1\" class=\"dataframe\">\n",
              "  <thead>\n",
              "    <tr style=\"text-align: right;\">\n",
              "      <th></th>\n",
              "      <th>Id</th>\n",
              "      <th>EmployeeName</th>\n",
              "      <th>JobTitle</th>\n",
              "      <th>BasePay</th>\n",
              "      <th>OvertimePay</th>\n",
              "      <th>OtherPay</th>\n",
              "      <th>Benefits</th>\n",
              "      <th>TotalPay</th>\n",
              "      <th>TotalPayBenefits</th>\n",
              "      <th>Year</th>\n",
              "      <th>Notes</th>\n",
              "      <th>Agency</th>\n",
              "      <th>Status</th>\n",
              "    </tr>\n",
              "  </thead>\n",
              "  <tbody>\n",
              "    <tr>\n",
              "      <th>0</th>\n",
              "      <td>1</td>\n",
              "      <td>NATHANIEL FORD</td>\n",
              "      <td>GENERAL MANAGER-METROPOLITAN TRANSIT AUTHORITY</td>\n",
              "      <td>167411.18</td>\n",
              "      <td>0.00</td>\n",
              "      <td>400184.25</td>\n",
              "      <td>NaN</td>\n",
              "      <td>567595.43</td>\n",
              "      <td>567595.43</td>\n",
              "      <td>2011</td>\n",
              "      <td>NaN</td>\n",
              "      <td>San Francisco</td>\n",
              "      <td>NaN</td>\n",
              "    </tr>\n",
              "    <tr>\n",
              "      <th>1</th>\n",
              "      <td>2</td>\n",
              "      <td>GARY JIMENEZ</td>\n",
              "      <td>CAPTAIN III (POLICE DEPARTMENT)</td>\n",
              "      <td>155966.02</td>\n",
              "      <td>245131.88</td>\n",
              "      <td>137811.38</td>\n",
              "      <td>NaN</td>\n",
              "      <td>538909.28</td>\n",
              "      <td>538909.28</td>\n",
              "      <td>2011</td>\n",
              "      <td>NaN</td>\n",
              "      <td>San Francisco</td>\n",
              "      <td>NaN</td>\n",
              "    </tr>\n",
              "    <tr>\n",
              "      <th>2</th>\n",
              "      <td>3</td>\n",
              "      <td>ALBERT PARDINI</td>\n",
              "      <td>CAPTAIN III (POLICE DEPARTMENT)</td>\n",
              "      <td>212739.13</td>\n",
              "      <td>106088.18</td>\n",
              "      <td>16452.60</td>\n",
              "      <td>NaN</td>\n",
              "      <td>335279.91</td>\n",
              "      <td>335279.91</td>\n",
              "      <td>2011</td>\n",
              "      <td>NaN</td>\n",
              "      <td>San Francisco</td>\n",
              "      <td>NaN</td>\n",
              "    </tr>\n",
              "    <tr>\n",
              "      <th>3</th>\n",
              "      <td>4</td>\n",
              "      <td>CHRISTOPHER CHONG</td>\n",
              "      <td>WIRE ROPE CABLE MAINTENANCE MECHANIC</td>\n",
              "      <td>77916.00</td>\n",
              "      <td>56120.71</td>\n",
              "      <td>198306.90</td>\n",
              "      <td>NaN</td>\n",
              "      <td>332343.61</td>\n",
              "      <td>332343.61</td>\n",
              "      <td>2011</td>\n",
              "      <td>NaN</td>\n",
              "      <td>San Francisco</td>\n",
              "      <td>NaN</td>\n",
              "    </tr>\n",
              "    <tr>\n",
              "      <th>4</th>\n",
              "      <td>5</td>\n",
              "      <td>PATRICK GARDNER</td>\n",
              "      <td>DEPUTY CHIEF OF DEPARTMENT,(FIRE DEPARTMENT)</td>\n",
              "      <td>134401.60</td>\n",
              "      <td>9737.00</td>\n",
              "      <td>182234.59</td>\n",
              "      <td>NaN</td>\n",
              "      <td>326373.19</td>\n",
              "      <td>326373.19</td>\n",
              "      <td>2011</td>\n",
              "      <td>NaN</td>\n",
              "      <td>San Francisco</td>\n",
              "      <td>NaN</td>\n",
              "    </tr>\n",
              "    <tr>\n",
              "      <th>...</th>\n",
              "      <td>...</td>\n",
              "      <td>...</td>\n",
              "      <td>...</td>\n",
              "      <td>...</td>\n",
              "      <td>...</td>\n",
              "      <td>...</td>\n",
              "      <td>...</td>\n",
              "      <td>...</td>\n",
              "      <td>...</td>\n",
              "      <td>...</td>\n",
              "      <td>...</td>\n",
              "      <td>...</td>\n",
              "      <td>...</td>\n",
              "    </tr>\n",
              "    <tr>\n",
              "      <th>148649</th>\n",
              "      <td>148650</td>\n",
              "      <td>Roy I Tillery</td>\n",
              "      <td>Custodian</td>\n",
              "      <td>0.00</td>\n",
              "      <td>0.00</td>\n",
              "      <td>0.00</td>\n",
              "      <td>0.0</td>\n",
              "      <td>0.00</td>\n",
              "      <td>0.00</td>\n",
              "      <td>2014</td>\n",
              "      <td>NaN</td>\n",
              "      <td>San Francisco</td>\n",
              "      <td>PT</td>\n",
              "    </tr>\n",
              "    <tr>\n",
              "      <th>148650</th>\n",
              "      <td>148651</td>\n",
              "      <td>Not provided</td>\n",
              "      <td>Not provided</td>\n",
              "      <td>NaN</td>\n",
              "      <td>NaN</td>\n",
              "      <td>NaN</td>\n",
              "      <td>NaN</td>\n",
              "      <td>0.00</td>\n",
              "      <td>0.00</td>\n",
              "      <td>2014</td>\n",
              "      <td>NaN</td>\n",
              "      <td>San Francisco</td>\n",
              "      <td>NaN</td>\n",
              "    </tr>\n",
              "    <tr>\n",
              "      <th>148651</th>\n",
              "      <td>148652</td>\n",
              "      <td>Not provided</td>\n",
              "      <td>Not provided</td>\n",
              "      <td>NaN</td>\n",
              "      <td>NaN</td>\n",
              "      <td>NaN</td>\n",
              "      <td>NaN</td>\n",
              "      <td>0.00</td>\n",
              "      <td>0.00</td>\n",
              "      <td>2014</td>\n",
              "      <td>NaN</td>\n",
              "      <td>San Francisco</td>\n",
              "      <td>NaN</td>\n",
              "    </tr>\n",
              "    <tr>\n",
              "      <th>148652</th>\n",
              "      <td>148653</td>\n",
              "      <td>Not provided</td>\n",
              "      <td>Not provided</td>\n",
              "      <td>NaN</td>\n",
              "      <td>NaN</td>\n",
              "      <td>NaN</td>\n",
              "      <td>NaN</td>\n",
              "      <td>0.00</td>\n",
              "      <td>0.00</td>\n",
              "      <td>2014</td>\n",
              "      <td>NaN</td>\n",
              "      <td>San Francisco</td>\n",
              "      <td>NaN</td>\n",
              "    </tr>\n",
              "    <tr>\n",
              "      <th>148653</th>\n",
              "      <td>148654</td>\n",
              "      <td>Joe Lopez</td>\n",
              "      <td>Counselor, Log Cabin Ranch</td>\n",
              "      <td>0.00</td>\n",
              "      <td>0.00</td>\n",
              "      <td>-618.13</td>\n",
              "      <td>0.0</td>\n",
              "      <td>-618.13</td>\n",
              "      <td>-618.13</td>\n",
              "      <td>2014</td>\n",
              "      <td>NaN</td>\n",
              "      <td>San Francisco</td>\n",
              "      <td>PT</td>\n",
              "    </tr>\n",
              "  </tbody>\n",
              "</table>\n",
              "<p>148654 rows × 13 columns</p>\n",
              "</div>"
            ],
            "text/plain": [
              "            Id       EmployeeName  ...         Agency  Status\n",
              "0            1     NATHANIEL FORD  ...  San Francisco     NaN\n",
              "1            2       GARY JIMENEZ  ...  San Francisco     NaN\n",
              "2            3     ALBERT PARDINI  ...  San Francisco     NaN\n",
              "3            4  CHRISTOPHER CHONG  ...  San Francisco     NaN\n",
              "4            5    PATRICK GARDNER  ...  San Francisco     NaN\n",
              "...        ...                ...  ...            ...     ...\n",
              "148649  148650      Roy I Tillery  ...  San Francisco      PT\n",
              "148650  148651       Not provided  ...  San Francisco     NaN\n",
              "148651  148652       Not provided  ...  San Francisco     NaN\n",
              "148652  148653       Not provided  ...  San Francisco     NaN\n",
              "148653  148654          Joe Lopez  ...  San Francisco      PT\n",
              "\n",
              "[148654 rows x 13 columns]"
            ]
          },
          "metadata": {
            "tags": []
          },
          "execution_count": 7
        }
      ]
    },
    {
      "cell_type": "code",
      "metadata": {
        "colab": {
          "base_uri": "https://localhost:8080/"
        },
        "id": "qqtyEE2LIQOl",
        "outputId": "a9e57937-ea52-4800-c93d-c974bb3b95c6"
      },
      "source": [
        "#information of the table\n",
        "df.info()"
      ],
      "execution_count": null,
      "outputs": [
        {
          "output_type": "stream",
          "text": [
            "<class 'pandas.core.frame.DataFrame'>\n",
            "RangeIndex: 148654 entries, 0 to 148653\n",
            "Data columns (total 13 columns):\n",
            " #   Column            Non-Null Count   Dtype  \n",
            "---  ------            --------------   -----  \n",
            " 0   Id                148654 non-null  int64  \n",
            " 1   EmployeeName      148652 non-null  object \n",
            " 2   JobTitle          148654 non-null  object \n",
            " 3   BasePay           148045 non-null  float64\n",
            " 4   OvertimePay       148650 non-null  float64\n",
            " 5   OtherPay          148650 non-null  float64\n",
            " 6   Benefits          112491 non-null  float64\n",
            " 7   TotalPay          148654 non-null  float64\n",
            " 8   TotalPayBenefits  148654 non-null  float64\n",
            " 9   Year              148654 non-null  int64  \n",
            " 10  Notes             0 non-null       float64\n",
            " 11  Agency            148654 non-null  object \n",
            " 12  Status            38119 non-null   object \n",
            "dtypes: float64(7), int64(2), object(4)\n",
            "memory usage: 14.7+ MB\n"
          ],
          "name": "stdout"
        }
      ]
    },
    {
      "cell_type": "markdown",
      "metadata": {
        "id": "yxTAWNazc0o3"
      },
      "source": [
        "Data Cleaning"
      ]
    },
    {
      "cell_type": "code",
      "metadata": {
        "colab": {
          "base_uri": "https://localhost:8080/",
          "height": 419
        },
        "id": "sFQPvkCCISdX",
        "outputId": "eaf91d57-add2-451c-fdde-6077b1c7d53e"
      },
      "source": [
        "#check if there is any nulls\n",
        "df.isnull()"
      ],
      "execution_count": null,
      "outputs": [
        {
          "output_type": "execute_result",
          "data": {
            "text/html": [
              "<div>\n",
              "<style scoped>\n",
              "    .dataframe tbody tr th:only-of-type {\n",
              "        vertical-align: middle;\n",
              "    }\n",
              "\n",
              "    .dataframe tbody tr th {\n",
              "        vertical-align: top;\n",
              "    }\n",
              "\n",
              "    .dataframe thead th {\n",
              "        text-align: right;\n",
              "    }\n",
              "</style>\n",
              "<table border=\"1\" class=\"dataframe\">\n",
              "  <thead>\n",
              "    <tr style=\"text-align: right;\">\n",
              "      <th></th>\n",
              "      <th>Id</th>\n",
              "      <th>EmployeeName</th>\n",
              "      <th>JobTitle</th>\n",
              "      <th>BasePay</th>\n",
              "      <th>OvertimePay</th>\n",
              "      <th>OtherPay</th>\n",
              "      <th>Benefits</th>\n",
              "      <th>TotalPay</th>\n",
              "      <th>TotalPayBenefits</th>\n",
              "      <th>Year</th>\n",
              "      <th>Notes</th>\n",
              "      <th>Agency</th>\n",
              "      <th>Status</th>\n",
              "    </tr>\n",
              "  </thead>\n",
              "  <tbody>\n",
              "    <tr>\n",
              "      <th>0</th>\n",
              "      <td>False</td>\n",
              "      <td>False</td>\n",
              "      <td>False</td>\n",
              "      <td>False</td>\n",
              "      <td>False</td>\n",
              "      <td>False</td>\n",
              "      <td>True</td>\n",
              "      <td>False</td>\n",
              "      <td>False</td>\n",
              "      <td>False</td>\n",
              "      <td>True</td>\n",
              "      <td>False</td>\n",
              "      <td>True</td>\n",
              "    </tr>\n",
              "    <tr>\n",
              "      <th>1</th>\n",
              "      <td>False</td>\n",
              "      <td>False</td>\n",
              "      <td>False</td>\n",
              "      <td>False</td>\n",
              "      <td>False</td>\n",
              "      <td>False</td>\n",
              "      <td>True</td>\n",
              "      <td>False</td>\n",
              "      <td>False</td>\n",
              "      <td>False</td>\n",
              "      <td>True</td>\n",
              "      <td>False</td>\n",
              "      <td>True</td>\n",
              "    </tr>\n",
              "    <tr>\n",
              "      <th>2</th>\n",
              "      <td>False</td>\n",
              "      <td>False</td>\n",
              "      <td>False</td>\n",
              "      <td>False</td>\n",
              "      <td>False</td>\n",
              "      <td>False</td>\n",
              "      <td>True</td>\n",
              "      <td>False</td>\n",
              "      <td>False</td>\n",
              "      <td>False</td>\n",
              "      <td>True</td>\n",
              "      <td>False</td>\n",
              "      <td>True</td>\n",
              "    </tr>\n",
              "    <tr>\n",
              "      <th>3</th>\n",
              "      <td>False</td>\n",
              "      <td>False</td>\n",
              "      <td>False</td>\n",
              "      <td>False</td>\n",
              "      <td>False</td>\n",
              "      <td>False</td>\n",
              "      <td>True</td>\n",
              "      <td>False</td>\n",
              "      <td>False</td>\n",
              "      <td>False</td>\n",
              "      <td>True</td>\n",
              "      <td>False</td>\n",
              "      <td>True</td>\n",
              "    </tr>\n",
              "    <tr>\n",
              "      <th>4</th>\n",
              "      <td>False</td>\n",
              "      <td>False</td>\n",
              "      <td>False</td>\n",
              "      <td>False</td>\n",
              "      <td>False</td>\n",
              "      <td>False</td>\n",
              "      <td>True</td>\n",
              "      <td>False</td>\n",
              "      <td>False</td>\n",
              "      <td>False</td>\n",
              "      <td>True</td>\n",
              "      <td>False</td>\n",
              "      <td>True</td>\n",
              "    </tr>\n",
              "    <tr>\n",
              "      <th>...</th>\n",
              "      <td>...</td>\n",
              "      <td>...</td>\n",
              "      <td>...</td>\n",
              "      <td>...</td>\n",
              "      <td>...</td>\n",
              "      <td>...</td>\n",
              "      <td>...</td>\n",
              "      <td>...</td>\n",
              "      <td>...</td>\n",
              "      <td>...</td>\n",
              "      <td>...</td>\n",
              "      <td>...</td>\n",
              "      <td>...</td>\n",
              "    </tr>\n",
              "    <tr>\n",
              "      <th>148649</th>\n",
              "      <td>False</td>\n",
              "      <td>False</td>\n",
              "      <td>False</td>\n",
              "      <td>False</td>\n",
              "      <td>False</td>\n",
              "      <td>False</td>\n",
              "      <td>False</td>\n",
              "      <td>False</td>\n",
              "      <td>False</td>\n",
              "      <td>False</td>\n",
              "      <td>True</td>\n",
              "      <td>False</td>\n",
              "      <td>False</td>\n",
              "    </tr>\n",
              "    <tr>\n",
              "      <th>148650</th>\n",
              "      <td>False</td>\n",
              "      <td>False</td>\n",
              "      <td>False</td>\n",
              "      <td>True</td>\n",
              "      <td>True</td>\n",
              "      <td>True</td>\n",
              "      <td>True</td>\n",
              "      <td>False</td>\n",
              "      <td>False</td>\n",
              "      <td>False</td>\n",
              "      <td>True</td>\n",
              "      <td>False</td>\n",
              "      <td>True</td>\n",
              "    </tr>\n",
              "    <tr>\n",
              "      <th>148651</th>\n",
              "      <td>False</td>\n",
              "      <td>False</td>\n",
              "      <td>False</td>\n",
              "      <td>True</td>\n",
              "      <td>True</td>\n",
              "      <td>True</td>\n",
              "      <td>True</td>\n",
              "      <td>False</td>\n",
              "      <td>False</td>\n",
              "      <td>False</td>\n",
              "      <td>True</td>\n",
              "      <td>False</td>\n",
              "      <td>True</td>\n",
              "    </tr>\n",
              "    <tr>\n",
              "      <th>148652</th>\n",
              "      <td>False</td>\n",
              "      <td>False</td>\n",
              "      <td>False</td>\n",
              "      <td>True</td>\n",
              "      <td>True</td>\n",
              "      <td>True</td>\n",
              "      <td>True</td>\n",
              "      <td>False</td>\n",
              "      <td>False</td>\n",
              "      <td>False</td>\n",
              "      <td>True</td>\n",
              "      <td>False</td>\n",
              "      <td>True</td>\n",
              "    </tr>\n",
              "    <tr>\n",
              "      <th>148653</th>\n",
              "      <td>False</td>\n",
              "      <td>False</td>\n",
              "      <td>False</td>\n",
              "      <td>False</td>\n",
              "      <td>False</td>\n",
              "      <td>False</td>\n",
              "      <td>False</td>\n",
              "      <td>False</td>\n",
              "      <td>False</td>\n",
              "      <td>False</td>\n",
              "      <td>True</td>\n",
              "      <td>False</td>\n",
              "      <td>False</td>\n",
              "    </tr>\n",
              "  </tbody>\n",
              "</table>\n",
              "<p>148654 rows × 13 columns</p>\n",
              "</div>"
            ],
            "text/plain": [
              "           Id  EmployeeName  JobTitle  BasePay  ...   Year  Notes  Agency  Status\n",
              "0       False         False     False    False  ...  False   True   False    True\n",
              "1       False         False     False    False  ...  False   True   False    True\n",
              "2       False         False     False    False  ...  False   True   False    True\n",
              "3       False         False     False    False  ...  False   True   False    True\n",
              "4       False         False     False    False  ...  False   True   False    True\n",
              "...       ...           ...       ...      ...  ...    ...    ...     ...     ...\n",
              "148649  False         False     False    False  ...  False   True   False   False\n",
              "148650  False         False     False     True  ...  False   True   False    True\n",
              "148651  False         False     False     True  ...  False   True   False    True\n",
              "148652  False         False     False     True  ...  False   True   False    True\n",
              "148653  False         False     False    False  ...  False   True   False   False\n",
              "\n",
              "[148654 rows x 13 columns]"
            ]
          },
          "metadata": {
            "tags": []
          },
          "execution_count": 9
        }
      ]
    },
    {
      "cell_type": "code",
      "metadata": {
        "colab": {
          "base_uri": "https://localhost:8080/",
          "height": 589
        },
        "id": "pf36qttxD2pU",
        "outputId": "a976222e-1f18-43f0-fe7d-1368166fa277"
      },
      "source": [
        "#clean nulls\n",
        "df = df[df['BasePay'].notna()]\n",
        "df = df[df['OvertimePay'].notna()]\n",
        "df = df[df['OtherPay'].notna()]\n",
        "df = df[df['TotalPay'].notna()]\n",
        "df = df[df['TotalPayBenefits'].notna()]\n",
        "df"
      ],
      "execution_count": null,
      "outputs": [
        {
          "output_type": "execute_result",
          "data": {
            "text/html": [
              "<div>\n",
              "<style scoped>\n",
              "    .dataframe tbody tr th:only-of-type {\n",
              "        vertical-align: middle;\n",
              "    }\n",
              "\n",
              "    .dataframe tbody tr th {\n",
              "        vertical-align: top;\n",
              "    }\n",
              "\n",
              "    .dataframe thead th {\n",
              "        text-align: right;\n",
              "    }\n",
              "</style>\n",
              "<table border=\"1\" class=\"dataframe\">\n",
              "  <thead>\n",
              "    <tr style=\"text-align: right;\">\n",
              "      <th></th>\n",
              "      <th>Id</th>\n",
              "      <th>EmployeeName</th>\n",
              "      <th>JobTitle</th>\n",
              "      <th>BasePay</th>\n",
              "      <th>OvertimePay</th>\n",
              "      <th>OtherPay</th>\n",
              "      <th>Benefits</th>\n",
              "      <th>TotalPay</th>\n",
              "      <th>TotalPayBenefits</th>\n",
              "      <th>Year</th>\n",
              "      <th>Notes</th>\n",
              "      <th>Agency</th>\n",
              "      <th>Status</th>\n",
              "    </tr>\n",
              "  </thead>\n",
              "  <tbody>\n",
              "    <tr>\n",
              "      <th>0</th>\n",
              "      <td>1</td>\n",
              "      <td>NATHANIEL FORD</td>\n",
              "      <td>GENERAL MANAGER-METROPOLITAN TRANSIT AUTHORITY</td>\n",
              "      <td>167411.18</td>\n",
              "      <td>0.00</td>\n",
              "      <td>400184.25</td>\n",
              "      <td>NaN</td>\n",
              "      <td>567595.43</td>\n",
              "      <td>567595.43</td>\n",
              "      <td>2011</td>\n",
              "      <td>NaN</td>\n",
              "      <td>San Francisco</td>\n",
              "      <td>NaN</td>\n",
              "    </tr>\n",
              "    <tr>\n",
              "      <th>1</th>\n",
              "      <td>2</td>\n",
              "      <td>GARY JIMENEZ</td>\n",
              "      <td>CAPTAIN III (POLICE DEPARTMENT)</td>\n",
              "      <td>155966.02</td>\n",
              "      <td>245131.88</td>\n",
              "      <td>137811.38</td>\n",
              "      <td>NaN</td>\n",
              "      <td>538909.28</td>\n",
              "      <td>538909.28</td>\n",
              "      <td>2011</td>\n",
              "      <td>NaN</td>\n",
              "      <td>San Francisco</td>\n",
              "      <td>NaN</td>\n",
              "    </tr>\n",
              "    <tr>\n",
              "      <th>2</th>\n",
              "      <td>3</td>\n",
              "      <td>ALBERT PARDINI</td>\n",
              "      <td>CAPTAIN III (POLICE DEPARTMENT)</td>\n",
              "      <td>212739.13</td>\n",
              "      <td>106088.18</td>\n",
              "      <td>16452.60</td>\n",
              "      <td>NaN</td>\n",
              "      <td>335279.91</td>\n",
              "      <td>335279.91</td>\n",
              "      <td>2011</td>\n",
              "      <td>NaN</td>\n",
              "      <td>San Francisco</td>\n",
              "      <td>NaN</td>\n",
              "    </tr>\n",
              "    <tr>\n",
              "      <th>3</th>\n",
              "      <td>4</td>\n",
              "      <td>CHRISTOPHER CHONG</td>\n",
              "      <td>WIRE ROPE CABLE MAINTENANCE MECHANIC</td>\n",
              "      <td>77916.00</td>\n",
              "      <td>56120.71</td>\n",
              "      <td>198306.90</td>\n",
              "      <td>NaN</td>\n",
              "      <td>332343.61</td>\n",
              "      <td>332343.61</td>\n",
              "      <td>2011</td>\n",
              "      <td>NaN</td>\n",
              "      <td>San Francisco</td>\n",
              "      <td>NaN</td>\n",
              "    </tr>\n",
              "    <tr>\n",
              "      <th>4</th>\n",
              "      <td>5</td>\n",
              "      <td>PATRICK GARDNER</td>\n",
              "      <td>DEPUTY CHIEF OF DEPARTMENT,(FIRE DEPARTMENT)</td>\n",
              "      <td>134401.60</td>\n",
              "      <td>9737.00</td>\n",
              "      <td>182234.59</td>\n",
              "      <td>NaN</td>\n",
              "      <td>326373.19</td>\n",
              "      <td>326373.19</td>\n",
              "      <td>2011</td>\n",
              "      <td>NaN</td>\n",
              "      <td>San Francisco</td>\n",
              "      <td>NaN</td>\n",
              "    </tr>\n",
              "    <tr>\n",
              "      <th>...</th>\n",
              "      <td>...</td>\n",
              "      <td>...</td>\n",
              "      <td>...</td>\n",
              "      <td>...</td>\n",
              "      <td>...</td>\n",
              "      <td>...</td>\n",
              "      <td>...</td>\n",
              "      <td>...</td>\n",
              "      <td>...</td>\n",
              "      <td>...</td>\n",
              "      <td>...</td>\n",
              "      <td>...</td>\n",
              "      <td>...</td>\n",
              "    </tr>\n",
              "    <tr>\n",
              "      <th>148645</th>\n",
              "      <td>148646</td>\n",
              "      <td>Carolyn A Wilson</td>\n",
              "      <td>Human Services Technician</td>\n",
              "      <td>0.00</td>\n",
              "      <td>0.00</td>\n",
              "      <td>0.00</td>\n",
              "      <td>0.0</td>\n",
              "      <td>0.00</td>\n",
              "      <td>0.00</td>\n",
              "      <td>2014</td>\n",
              "      <td>NaN</td>\n",
              "      <td>San Francisco</td>\n",
              "      <td>PT</td>\n",
              "    </tr>\n",
              "    <tr>\n",
              "      <th>148647</th>\n",
              "      <td>148648</td>\n",
              "      <td>Joann Anderson</td>\n",
              "      <td>Communications Dispatcher 2</td>\n",
              "      <td>0.00</td>\n",
              "      <td>0.00</td>\n",
              "      <td>0.00</td>\n",
              "      <td>0.0</td>\n",
              "      <td>0.00</td>\n",
              "      <td>0.00</td>\n",
              "      <td>2014</td>\n",
              "      <td>NaN</td>\n",
              "      <td>San Francisco</td>\n",
              "      <td>PT</td>\n",
              "    </tr>\n",
              "    <tr>\n",
              "      <th>148648</th>\n",
              "      <td>148649</td>\n",
              "      <td>Leon Walker</td>\n",
              "      <td>Custodian</td>\n",
              "      <td>0.00</td>\n",
              "      <td>0.00</td>\n",
              "      <td>0.00</td>\n",
              "      <td>0.0</td>\n",
              "      <td>0.00</td>\n",
              "      <td>0.00</td>\n",
              "      <td>2014</td>\n",
              "      <td>NaN</td>\n",
              "      <td>San Francisco</td>\n",
              "      <td>PT</td>\n",
              "    </tr>\n",
              "    <tr>\n",
              "      <th>148649</th>\n",
              "      <td>148650</td>\n",
              "      <td>Roy I Tillery</td>\n",
              "      <td>Custodian</td>\n",
              "      <td>0.00</td>\n",
              "      <td>0.00</td>\n",
              "      <td>0.00</td>\n",
              "      <td>0.0</td>\n",
              "      <td>0.00</td>\n",
              "      <td>0.00</td>\n",
              "      <td>2014</td>\n",
              "      <td>NaN</td>\n",
              "      <td>San Francisco</td>\n",
              "      <td>PT</td>\n",
              "    </tr>\n",
              "    <tr>\n",
              "      <th>148653</th>\n",
              "      <td>148654</td>\n",
              "      <td>Joe Lopez</td>\n",
              "      <td>Counselor, Log Cabin Ranch</td>\n",
              "      <td>0.00</td>\n",
              "      <td>0.00</td>\n",
              "      <td>-618.13</td>\n",
              "      <td>0.0</td>\n",
              "      <td>-618.13</td>\n",
              "      <td>-618.13</td>\n",
              "      <td>2014</td>\n",
              "      <td>NaN</td>\n",
              "      <td>San Francisco</td>\n",
              "      <td>PT</td>\n",
              "    </tr>\n",
              "  </tbody>\n",
              "</table>\n",
              "<p>148045 rows × 13 columns</p>\n",
              "</div>"
            ],
            "text/plain": [
              "            Id       EmployeeName  ...         Agency  Status\n",
              "0            1     NATHANIEL FORD  ...  San Francisco     NaN\n",
              "1            2       GARY JIMENEZ  ...  San Francisco     NaN\n",
              "2            3     ALBERT PARDINI  ...  San Francisco     NaN\n",
              "3            4  CHRISTOPHER CHONG  ...  San Francisco     NaN\n",
              "4            5    PATRICK GARDNER  ...  San Francisco     NaN\n",
              "...        ...                ...  ...            ...     ...\n",
              "148645  148646   Carolyn A Wilson  ...  San Francisco      PT\n",
              "148647  148648     Joann Anderson  ...  San Francisco      PT\n",
              "148648  148649        Leon Walker  ...  San Francisco      PT\n",
              "148649  148650      Roy I Tillery  ...  San Francisco      PT\n",
              "148653  148654          Joe Lopez  ...  San Francisco      PT\n",
              "\n",
              "[148045 rows x 13 columns]"
            ]
          },
          "metadata": {
            "tags": []
          },
          "execution_count": 10
        }
      ]
    },
    {
      "cell_type": "code",
      "metadata": {
        "colab": {
          "base_uri": "https://localhost:8080/"
        },
        "id": "zjEICLheIee-",
        "outputId": "e1abc7a7-8f6e-4ebe-f156-d3c0e2d99c32"
      },
      "source": [
        "df['Agency'].nunique()"
      ],
      "execution_count": null,
      "outputs": [
        {
          "output_type": "execute_result",
          "data": {
            "text/plain": [
              "1"
            ]
          },
          "metadata": {
            "tags": []
          },
          "execution_count": 11
        }
      ]
    },
    {
      "cell_type": "code",
      "metadata": {
        "colab": {
          "base_uri": "https://localhost:8080/"
        },
        "id": "CamPnX_eKPp2",
        "outputId": "f84e581e-0f93-4941-d6a3-fd68f03f2380"
      },
      "source": [
        "df['Status'].unique()"
      ],
      "execution_count": null,
      "outputs": [
        {
          "output_type": "execute_result",
          "data": {
            "text/plain": [
              "array([nan, 'PT', 'FT'], dtype=object)"
            ]
          },
          "metadata": {
            "tags": []
          },
          "execution_count": 12
        }
      ]
    },
    {
      "cell_type": "code",
      "metadata": {
        "colab": {
          "base_uri": "https://localhost:8080/"
        },
        "id": "I6nGk5x2KZxa",
        "outputId": "126336fe-abeb-4cbd-e745-60420d9d0e36"
      },
      "source": [
        "df['JobTitle'].unique()"
      ],
      "execution_count": null,
      "outputs": [
        {
          "output_type": "execute_result",
          "data": {
            "text/plain": [
              "array(['GENERAL MANAGER-METROPOLITAN TRANSIT AUTHORITY',\n",
              "       'CAPTAIN III (POLICE DEPARTMENT)',\n",
              "       'WIRE ROPE CABLE MAINTENANCE MECHANIC', ...,\n",
              "       'Forensic Toxicologist Supervis', 'Conversion', 'Cashier 3'],\n",
              "      dtype=object)"
            ]
          },
          "metadata": {
            "tags": []
          },
          "execution_count": 13
        }
      ]
    },
    {
      "cell_type": "code",
      "metadata": {
        "colab": {
          "base_uri": "https://localhost:8080/"
        },
        "id": "2hO5XLcZxwqZ",
        "outputId": "dc84d3fc-a6f8-401a-a29f-724acdc4fe5a"
      },
      "source": [
        "df['JobTitle'].value_counts()"
      ],
      "execution_count": null,
      "outputs": [
        {
          "output_type": "execute_result",
          "data": {
            "text/plain": [
              "Transit Operator                                      6975\n",
              "Special Nurse                                         4382\n",
              "Registered Nurse                                      3725\n",
              "Public Svc Aide-Public Works                          2514\n",
              "Police Officer 3                                      2411\n",
              "                                                      ... \n",
              "ZOO CURATOR                                              1\n",
              "FORENSIC TOXICOLOGIST                                    1\n",
              "Auto Body&Fender Wrk Asst Sprv                           1\n",
              "HUMAN RESOURCES DIRECTOR                                 1\n",
              "AIRPORT ASSISTANT DEPUTY DIRECTOR, BUSINESS ADMINI       1\n",
              "Name: JobTitle, Length: 2154, dtype: int64"
            ]
          },
          "metadata": {
            "tags": []
          },
          "execution_count": 14
        }
      ]
    },
    {
      "cell_type": "code",
      "metadata": {
        "colab": {
          "base_uri": "https://localhost:8080/"
        },
        "id": "bdZnTTzQKkvr",
        "outputId": "1431a062-37d4-414a-bea9-7891eda853d5"
      },
      "source": [
        "df['JobTitle'].nunique()"
      ],
      "execution_count": null,
      "outputs": [
        {
          "output_type": "execute_result",
          "data": {
            "text/plain": [
              "2154"
            ]
          },
          "metadata": {
            "tags": []
          },
          "execution_count": 15
        }
      ]
    },
    {
      "cell_type": "markdown",
      "metadata": {
        "id": "Dxg1VSascu07"
      },
      "source": [
        "Splitting data into different years"
      ]
    },
    {
      "cell_type": "code",
      "metadata": {
        "colab": {
          "base_uri": "https://localhost:8080/"
        },
        "id": "jhghUjqKKpGH",
        "outputId": "c1e43398-723f-46eb-f565-759d94c97ff2"
      },
      "source": [
        "df_2011 = df.iloc[(df['Year'] == 2011).values]\n",
        "df_2011.info()"
      ],
      "execution_count": null,
      "outputs": [
        {
          "output_type": "stream",
          "text": [
            "<class 'pandas.core.frame.DataFrame'>\n",
            "Int64Index: 36159 entries, 0 to 36158\n",
            "Data columns (total 13 columns):\n",
            " #   Column            Non-Null Count  Dtype  \n",
            "---  ------            --------------  -----  \n",
            " 0   Id                36159 non-null  int64  \n",
            " 1   EmployeeName      36158 non-null  object \n",
            " 2   JobTitle          36159 non-null  object \n",
            " 3   BasePay           36159 non-null  float64\n",
            " 4   OvertimePay       36159 non-null  float64\n",
            " 5   OtherPay          36159 non-null  float64\n",
            " 6   Benefits          0 non-null      float64\n",
            " 7   TotalPay          36159 non-null  float64\n",
            " 8   TotalPayBenefits  36159 non-null  float64\n",
            " 9   Year              36159 non-null  int64  \n",
            " 10  Notes             0 non-null      float64\n",
            " 11  Agency            36159 non-null  object \n",
            " 12  Status            0 non-null      object \n",
            "dtypes: float64(7), int64(2), object(4)\n",
            "memory usage: 3.9+ MB\n"
          ],
          "name": "stdout"
        }
      ]
    },
    {
      "cell_type": "code",
      "metadata": {
        "colab": {
          "base_uri": "https://localhost:8080/"
        },
        "id": "grIxTrnuL50C",
        "outputId": "bc30eaa9-2426-494a-bd6e-0cc74b955e1a"
      },
      "source": [
        "df_2012 = df.iloc[(df['Year'] == 2012).values]\n",
        "df_2012.info()"
      ],
      "execution_count": null,
      "outputs": [
        {
          "output_type": "stream",
          "text": [
            "<class 'pandas.core.frame.DataFrame'>\n",
            "Int64Index: 36766 entries, 36159 to 72924\n",
            "Data columns (total 13 columns):\n",
            " #   Column            Non-Null Count  Dtype  \n",
            "---  ------            --------------  -----  \n",
            " 0   Id                36766 non-null  int64  \n",
            " 1   EmployeeName      36765 non-null  object \n",
            " 2   JobTitle          36766 non-null  object \n",
            " 3   BasePay           36766 non-null  float64\n",
            " 4   OvertimePay       36766 non-null  float64\n",
            " 5   OtherPay          36766 non-null  float64\n",
            " 6   Benefits          36766 non-null  float64\n",
            " 7   TotalPay          36766 non-null  float64\n",
            " 8   TotalPayBenefits  36766 non-null  float64\n",
            " 9   Year              36766 non-null  int64  \n",
            " 10  Notes             0 non-null      float64\n",
            " 11  Agency            36766 non-null  object \n",
            " 12  Status            0 non-null      object \n",
            "dtypes: float64(7), int64(2), object(4)\n",
            "memory usage: 3.9+ MB\n"
          ],
          "name": "stdout"
        }
      ]
    },
    {
      "cell_type": "code",
      "metadata": {
        "colab": {
          "base_uri": "https://localhost:8080/"
        },
        "id": "uOzH6nXoMGle",
        "outputId": "23236283-218f-4aa9-a80c-b2afd4bc26b7"
      },
      "source": [
        "df_2013 = df.iloc[(df['Year'] == 2013).values]\n",
        "df_2013.info()"
      ],
      "execution_count": null,
      "outputs": [
        {
          "output_type": "stream",
          "text": [
            "<class 'pandas.core.frame.DataFrame'>\n",
            "Int64Index: 37001 entries, 72925 to 110520\n",
            "Data columns (total 13 columns):\n",
            " #   Column            Non-Null Count  Dtype  \n",
            "---  ------            --------------  -----  \n",
            " 0   Id                37001 non-null  int64  \n",
            " 1   EmployeeName      37001 non-null  object \n",
            " 2   JobTitle          37001 non-null  object \n",
            " 3   BasePay           37001 non-null  float64\n",
            " 4   OvertimePay       37001 non-null  float64\n",
            " 5   OtherPay          37001 non-null  float64\n",
            " 6   Benefits          37001 non-null  float64\n",
            " 7   TotalPay          37001 non-null  float64\n",
            " 8   TotalPayBenefits  37001 non-null  float64\n",
            " 9   Year              37001 non-null  int64  \n",
            " 10  Notes             0 non-null      float64\n",
            " 11  Agency            37001 non-null  object \n",
            " 12  Status            0 non-null      object \n",
            "dtypes: float64(7), int64(2), object(4)\n",
            "memory usage: 4.0+ MB\n"
          ],
          "name": "stdout"
        }
      ]
    },
    {
      "cell_type": "code",
      "metadata": {
        "colab": {
          "base_uri": "https://localhost:8080/"
        },
        "id": "LrKVe2aKMLG-",
        "outputId": "b8fb9e82-fbbc-4780-b304-4bb10d78fcca"
      },
      "source": [
        "df_2014 = df.iloc[(df['Year'] == 2014).values]\n",
        "df_2014.info()"
      ],
      "execution_count": null,
      "outputs": [
        {
          "output_type": "stream",
          "text": [
            "<class 'pandas.core.frame.DataFrame'>\n",
            "Int64Index: 38119 entries, 110531 to 148653\n",
            "Data columns (total 13 columns):\n",
            " #   Column            Non-Null Count  Dtype  \n",
            "---  ------            --------------  -----  \n",
            " 0   Id                38119 non-null  int64  \n",
            " 1   EmployeeName      38119 non-null  object \n",
            " 2   JobTitle          38119 non-null  object \n",
            " 3   BasePay           38119 non-null  float64\n",
            " 4   OvertimePay       38119 non-null  float64\n",
            " 5   OtherPay          38119 non-null  float64\n",
            " 6   Benefits          38119 non-null  float64\n",
            " 7   TotalPay          38119 non-null  float64\n",
            " 8   TotalPayBenefits  38119 non-null  float64\n",
            " 9   Year              38119 non-null  int64  \n",
            " 10  Notes             0 non-null      float64\n",
            " 11  Agency            38119 non-null  object \n",
            " 12  Status            38119 non-null  object \n",
            "dtypes: float64(7), int64(2), object(4)\n",
            "memory usage: 4.1+ MB\n"
          ],
          "name": "stdout"
        }
      ]
    },
    {
      "cell_type": "markdown",
      "metadata": {
        "id": "xeLE6n1_c8Mo"
      },
      "source": [
        "Data Visualization"
      ]
    },
    {
      "cell_type": "code",
      "metadata": {
        "colab": {
          "base_uri": "https://localhost:8080/",
          "height": 513
        },
        "id": "oKptqaYDOJ3j",
        "outputId": "0a963cf2-61dc-4f92-fba8-aec63c71c0c7"
      },
      "source": [
        "import matplotlib.pyplot as plt\n",
        "%matplotlib inline\n",
        "\n",
        "plt.figure(figsize=(13,8))\n",
        "\n",
        "plt.title('Distribution')\n",
        "plt.xlabel('Base Pay')\n",
        "plt.ylabel('Count')\n",
        "\n",
        "plt.hist(df_2011['BasePay'], bins=20, alpha=0.25, label='2011', color='g')\n",
        "# plt.hist(df_2012['BasePay'], bins=20, alpha=0.25, label='2011', color='y')\n",
        "# plt.hist(df_2013['BasePay'], bins=20, alpha=0.25, label='2011', color='b')\n",
        "plt.hist(df_2014['BasePay'], bins=20, alpha=0.25, label='2014', color='r')\n",
        "\n",
        "plt.axvline(df_2011['BasePay'].mean(), color='g', linewidth=1)\n",
        "# plt.axvline(df_2012['BasePay'].mean(), color='y', linewidth=1)\n",
        "# plt.axvline(df_2013['BasePay'].mean(), color='b', linewidth=1)\n",
        "plt.axvline(df_2014['BasePay'].mean(), color='r', linewidth=1)\n",
        "\n",
        "plt.legend(loc='upper right')\n",
        "plt.show()\n"
      ],
      "execution_count": null,
      "outputs": [
        {
          "output_type": "display_data",
          "data": {
            "image/png": "[encoded data removed]",
            "text/plain": [
              "<Figure size 936x576 with 1 Axes>"
            ]
          },
          "metadata": {
            "tags": [],
            "needs_background": "light"
          }
        }
      ]
    },
    {
      "cell_type": "markdown",
      "metadata": {
        "id": "a435DS9NZ323"
      },
      "source": [
        "The graph above shows the distribution and mean of basepay. It is a bar graph. The green represent 2011 and the red represent 2014. It shows that the basepay has increased overtime. "
      ]
    },
    {
      "cell_type": "code",
      "metadata": {
        "colab": {
          "base_uri": "https://localhost:8080/",
          "height": 513
        },
        "id": "PhLfENGSR_PB",
        "outputId": "7ef37e26-0ee0-4fce-db3c-c6b4060ace5c"
      },
      "source": [
        "plt.figure(figsize=(13,8))\n",
        "\n",
        "plt.title('Distribution')\n",
        "plt.xlabel('Total Pay')\n",
        "plt.ylabel('Count')\n",
        "\n",
        "plt.hist(df_2011['TotalPay'], bins=20, alpha=0.25, label='2011', color='g')\n",
        "plt.hist(df_2014['TotalPay'], bins=20, alpha=0.25, label='2014', color='r')\n",
        "\n",
        "\n",
        "plt.axvline(df_2011['TotalPay'].mean(), color='g', linewidth=1)\n",
        "plt.axvline(df_2014['TotalPay'].mean(), color='r', linewidth=1)\n",
        "\n",
        "plt.legend(loc='upper right')\n",
        "plt.show()"
      ],
      "execution_count": null,
      "outputs": [
        {
          "output_type": "display_data",
          "data": {
            "image/png": "[encoded data removed]",
            "text/plain": [
              "<Figure size 936x576 with 1 Axes>"
            ]
          },
          "metadata": {
            "tags": [],
            "needs_background": "light"
          }
        }
      ]
    },
    {
      "cell_type": "markdown",
      "metadata": {
        "id": "l8vvgJUGaL2k"
      },
      "source": [
        "The graph above shows the distribution and mean of total pay. It is a bar graph. The green represent 2011 and the red represent 2014. It shows that the basepay has increased overtime."
      ]
    },
    {
      "cell_type": "code",
      "metadata": {
        "colab": {
          "base_uri": "https://localhost:8080/",
          "height": 265
        },
        "id": "4g6lEFsEdySo",
        "outputId": "1ed915f2-9a63-4b04-c661-9f14798722ab"
      },
      "source": [
        "sns.barplot(y=[df_2011['BasePay'].mean(),\n",
        "               df_2012['BasePay'].mean(),\n",
        "               df_2013['BasePay'].mean(),\n",
        "               df_2014['BasePay'].mean()],\n",
        "            x=[2011,2012,2013,2014])\n",
        "\n",
        "plt.show()"
      ],
      "execution_count": null,
      "outputs": [
        {
          "output_type": "display_data",
          "data": {
            "image/png": "[encoded data removed]",
            "text/plain": [
              "<Figure size 432x288 with 1 Axes>"
            ]
          },
          "metadata": {
            "tags": [],
            "needs_background": "light"
          }
        }
      ]
    },
    {
      "cell_type": "markdown",
      "metadata": {
        "id": "jlt6xQKral0A"
      },
      "source": [
        "This graph shows the mean of base pay for 2011 through 2014. We can see that from 2011 to 2013 the mean increase steadily but from 2013 to 2014 there is a slight decrease."
      ]
    },
    {
      "cell_type": "code",
      "metadata": {
        "id": "Jr6gAEY3eEIA",
        "colab": {
          "base_uri": "https://localhost:8080/",
          "height": 265
        },
        "outputId": "fefbf976-1151-49cd-de29-9a1fa204c2ca"
      },
      "source": [
        "sns.barplot(y=[df_2011['OvertimePay'].mean(),\n",
        "               df_2012['OvertimePay'].mean(),\n",
        "               df_2013['OvertimePay'].mean(),\n",
        "               df_2014['OvertimePay'].mean()],\n",
        "            x=[2011,2012,2013,2014])\n",
        "\n",
        "plt.show()"
      ],
      "execution_count": null,
      "outputs": [
        {
          "output_type": "display_data",
          "data": {
            "image/png": "[encoded data removed]",
            "text/plain": [
              "<Figure size 432x288 with 1 Axes>"
            ]
          },
          "metadata": {
            "tags": [],
            "needs_background": "light"
          }
        }
      ]
    },
    {
      "cell_type": "markdown",
      "metadata": {
        "id": "hRsKdt9vaYWV"
      },
      "source": [
        "This graph shows the mean of overtime pay for 2011 through 2014. We can see that from 2011 to 2013 the mean increase steadily but the increase from 2013 to 2014 is very minimal."
      ]
    },
    {
      "cell_type": "code",
      "metadata": {
        "id": "OkxvjaOxd2_l",
        "colab": {
          "base_uri": "https://localhost:8080/",
          "height": 269
        },
        "outputId": "28299c65-f7ce-4e3c-e441-d6c18f8ef495"
      },
      "source": [
        "sns.barplot(y=[df_2011['OtherPay'].mean(),\n",
        "               df_2012['OtherPay'].mean(),\n",
        "               df_2013['OtherPay'].mean(),\n",
        "               df_2014['OtherPay'].mean()],\n",
        "            x=[2011,2012,2013,2014])\n",
        "\n",
        "plt.show()"
      ],
      "execution_count": null,
      "outputs": [
        {
          "output_type": "display_data",
          "data": {
            "image/png": "[encoded data removed]",
            "text/plain": [
              "<Figure size 432x288 with 1 Axes>"
            ]
          },
          "metadata": {
            "tags": [],
            "needs_background": "light"
          }
        }
      ]
    },
    {
      "cell_type": "markdown",
      "metadata": {
        "id": "_mCl9V8rbE30"
      },
      "source": [
        "This graph shows the mean of other pay for 2011 through 2014. We can see that from 2011 to 2013 the mean increase steadily but from 2013 to 2014 there is a slight decrease."
      ]
    },
    {
      "cell_type": "code",
      "metadata": {
        "id": "H1frARvFdYl7",
        "colab": {
          "base_uri": "https://localhost:8080/",
          "height": 265
        },
        "outputId": "54eaeaa7-3a42-4a1f-f06f-14bdc14fbc1c"
      },
      "source": [
        "sns.barplot(y=[df_2011['TotalPay'].mean(),\n",
        "               df_2012['TotalPay'].mean(),\n",
        "               df_2013['TotalPay'].mean(),\n",
        "               df_2014['TotalPay'].mean()],\n",
        "            x=[2011,2012,2013,2014])\n",
        "\n",
        "plt.show()"
      ],
      "execution_count": null,
      "outputs": [
        {
          "output_type": "display_data",
          "data": {
            "image/png": "[encoded data removed]",
            "text/plain": [
              "<Figure size 432x288 with 1 Axes>"
            ]
          },
          "metadata": {
            "tags": [],
            "needs_background": "light"
          }
        }
      ]
    },
    {
      "cell_type": "markdown",
      "metadata": {
        "id": "lp_YMH8gbIiz"
      },
      "source": [
        "This graph shows the mean of total pay for 2011 through 2014. We can see that from 2011 to 2013 the mean increase steadily but from 2013 to 2014 there is a slight decrease."
      ]
    },
    {
      "cell_type": "markdown",
      "metadata": {
        "id": "4OFANk1vc_13"
      },
      "source": [
        "Hypothesis testing: \n",
        "\n",
        "Hypothesis 1: people’s pay has increased overtime for all job titles. \n"
      ]
    },
    {
      "cell_type": "code",
      "metadata": {
        "id": "7pV1AmpPMNjd",
        "colab": {
          "base_uri": "https://localhost:8080/"
        },
        "outputId": "9f43b15f-54e0-4aa0-e0e5-429d5961f26c"
      },
      "source": [
        "stats.ttest_ind(df_2011['BasePay'],df_2014['BasePay'])"
      ],
      "execution_count": null,
      "outputs": [
        {
          "output_type": "execute_result",
          "data": {
            "text/plain": [
              "Ttest_indResult(statistic=-9.539889046671979, pvalue=1.4711370972099165e-21)"
            ]
          },
          "metadata": {
            "tags": []
          },
          "execution_count": 26
        }
      ]
    },
    {
      "cell_type": "code",
      "metadata": {
        "id": "78Msd61eN5u7",
        "colab": {
          "base_uri": "https://localhost:8080/"
        },
        "outputId": "526c0670-8023-4204-d1e0-e73e9366f879"
      },
      "source": [
        "df_2011['BasePay'].unique"
      ],
      "execution_count": null,
      "outputs": [
        {
          "output_type": "execute_result",
          "data": {
            "text/plain": [
              "<bound method Series.unique of 0        167411.18\n",
              "1        155966.02\n",
              "2        212739.13\n",
              "3         77916.00\n",
              "4        134401.60\n",
              "           ...    \n",
              "36154         0.00\n",
              "36155         0.00\n",
              "36156         0.00\n",
              "36157         0.00\n",
              "36158         0.00\n",
              "Name: BasePay, Length: 36159, dtype: float64>"
            ]
          },
          "metadata": {
            "tags": []
          },
          "execution_count": 27
        }
      ]
    },
    {
      "cell_type": "code",
      "metadata": {
        "id": "QsVUJL42FSW2",
        "colab": {
          "base_uri": "https://localhost:8080/"
        },
        "outputId": "1a983dbe-12dc-4152-b6ee-625654edc729"
      },
      "source": [
        "stats.ttest_ind(df_2011['OvertimePay'],df_2014['OvertimePay'])"
      ],
      "execution_count": null,
      "outputs": [
        {
          "output_type": "execute_result",
          "data": {
            "text/plain": [
              "Ttest_indResult(statistic=-10.621074010816352, pvalue=2.4839302269902894e-26)"
            ]
          },
          "metadata": {
            "tags": []
          },
          "execution_count": 28
        }
      ]
    },
    {
      "cell_type": "code",
      "metadata": {
        "id": "Q0tQx5LtN7vw",
        "colab": {
          "base_uri": "https://localhost:8080/"
        },
        "outputId": "38d127fc-60cd-41e8-d404-dbaafca62538"
      },
      "source": [
        "stats.ttest_ind(df_2011['OtherPay'],df_2014['OtherPay'])"
      ],
      "execution_count": null,
      "outputs": [
        {
          "output_type": "execute_result",
          "data": {
            "text/plain": [
              "Ttest_indResult(statistic=1.9348219126291435, pvalue=0.05301594523875309)"
            ]
          },
          "metadata": {
            "tags": []
          },
          "execution_count": 29
        }
      ]
    },
    {
      "cell_type": "code",
      "metadata": {
        "id": "nD_P6JGNDy1k",
        "colab": {
          "base_uri": "https://localhost:8080/"
        },
        "outputId": "f8d78ad2-ffa1-4cd7-ba16-dfec9f2bdc9f"
      },
      "source": [
        "stats.ttest_ind(df_2011['TotalPay'],df_2014['TotalPay'])"
      ],
      "execution_count": null,
      "outputs": [
        {
          "output_type": "execute_result",
          "data": {
            "text/plain": [
              "Ttest_indResult(statistic=-10.21808511640831, pvalue=1.708230711684556e-24)"
            ]
          },
          "metadata": {
            "tags": []
          },
          "execution_count": 30
        }
      ]
    },
    {
      "cell_type": "markdown",
      "metadata": {
        "id": "iWrNoi7oeglD"
      },
      "source": [
        "**Conclusion:**\n",
        "All pay has increased overtime, including base pay, overtime pay, otherpay and total pay. The p value are all smaller than 0.05, hence there are enough evidence to conclude that the p value is significant enough to reject the null hypothesis\n"
      ]
    },
    {
      "cell_type": "markdown",
      "metadata": {
        "id": "Gevc9CV9eQ2L"
      },
      "source": [
        "Hypothesis 2: For the top 5 most popular job titles, total pay has increased overtime\n"
      ]
    },
    {
      "cell_type": "code",
      "metadata": {
        "id": "J7cJNuGyGVCz",
        "colab": {
          "base_uri": "https://localhost:8080/",
          "height": 502
        },
        "outputId": "2fa445ac-5f69-4e3d-8cad-8d3ecca05c60"
      },
      "source": [
        "import matplotlib.pyplot as plt\n",
        "import seaborn as sns\n",
        "\n",
        "#top 10 jobs by number\n",
        "plt.figure(figsize=(13,8))\n",
        "sectors = df['JobTitle'].value_counts()[0:10]\n",
        "sns.barplot (y=sectors.index, x=sectors.values, alpha=0.6)\n",
        "plt.xlabel('Number of jobs', fontsize = 16)\n",
        "plt.ylabel('Job Title', fontsize = 16)\n",
        "plt.show()"
      ],
      "execution_count": null,
      "outputs": [
        {
          "output_type": "display_data",
          "data": {
            "image/png": "[encoded data removed]",
            "text/plain": [
              "<Figure size 936x576 with 1 Axes>"
            ]
          },
          "metadata": {
            "tags": [],
            "needs_background": "light"
          }
        }
      ]
    },
    {
      "cell_type": "markdown",
      "metadata": {
        "id": "B9FkE-CqbP3X"
      },
      "source": [
        "This graph shows the top ten most common jobs in the data set."
      ]
    },
    {
      "cell_type": "code",
      "metadata": {
        "id": "22M3nIrfYEq1"
      },
      "source": [
        "topfivetitlelist = list(df['JobTitle'].value_counts()[0:5].index.values)"
      ],
      "execution_count": null,
      "outputs": []
    },
    {
      "cell_type": "code",
      "metadata": {
        "id": "2AEuP7fKXFhW",
        "colab": {
          "base_uri": "https://localhost:8080/",
          "height": 419
        },
        "outputId": "a54784c6-16c5-485d-8563-8e26b24db727"
      },
      "source": [
        "top5mostcommonjobtitles = df[df['JobTitle'].isin(topfivetitlelist)]\n",
        "top5mostcommonjobtitles"
      ],
      "execution_count": null,
      "outputs": [
        {
          "output_type": "execute_result",
          "data": {
            "text/html": [
              "<div>\n",
              "<style scoped>\n",
              "    .dataframe tbody tr th:only-of-type {\n",
              "        vertical-align: middle;\n",
              "    }\n",
              "\n",
              "    .dataframe tbody tr th {\n",
              "        vertical-align: top;\n",
              "    }\n",
              "\n",
              "    .dataframe thead th {\n",
              "        text-align: right;\n",
              "    }\n",
              "</style>\n",
              "<table border=\"1\" class=\"dataframe\">\n",
              "  <thead>\n",
              "    <tr style=\"text-align: right;\">\n",
              "      <th></th>\n",
              "      <th>Id</th>\n",
              "      <th>EmployeeName</th>\n",
              "      <th>JobTitle</th>\n",
              "      <th>BasePay</th>\n",
              "      <th>OvertimePay</th>\n",
              "      <th>OtherPay</th>\n",
              "      <th>Benefits</th>\n",
              "      <th>TotalPay</th>\n",
              "      <th>TotalPayBenefits</th>\n",
              "      <th>Year</th>\n",
              "      <th>Notes</th>\n",
              "      <th>Agency</th>\n",
              "      <th>Status</th>\n",
              "    </tr>\n",
              "  </thead>\n",
              "  <tbody>\n",
              "    <tr>\n",
              "      <th>36314</th>\n",
              "      <td>36315</td>\n",
              "      <td>Eric Neff</td>\n",
              "      <td>Police Officer 3</td>\n",
              "      <td>109118.22</td>\n",
              "      <td>27043.59</td>\n",
              "      <td>109131.14</td>\n",
              "      <td>32140.44</td>\n",
              "      <td>245292.95</td>\n",
              "      <td>277433.39</td>\n",
              "      <td>2012</td>\n",
              "      <td>NaN</td>\n",
              "      <td>San Francisco</td>\n",
              "      <td>NaN</td>\n",
              "    </tr>\n",
              "    <tr>\n",
              "      <th>36317</th>\n",
              "      <td>36318</td>\n",
              "      <td>Timothy Gibson</td>\n",
              "      <td>Police Officer 3</td>\n",
              "      <td>95449.67</td>\n",
              "      <td>5481.28</td>\n",
              "      <td>148736.75</td>\n",
              "      <td>27377.58</td>\n",
              "      <td>249667.70</td>\n",
              "      <td>277045.28</td>\n",
              "      <td>2012</td>\n",
              "      <td>NaN</td>\n",
              "      <td>San Francisco</td>\n",
              "      <td>NaN</td>\n",
              "    </tr>\n",
              "    <tr>\n",
              "      <th>36349</th>\n",
              "      <td>36350</td>\n",
              "      <td>Constantine Zachos</td>\n",
              "      <td>Police Officer 3</td>\n",
              "      <td>102265.48</td>\n",
              "      <td>8524.03</td>\n",
              "      <td>112000.30</td>\n",
              "      <td>47492.33</td>\n",
              "      <td>222789.81</td>\n",
              "      <td>270282.14</td>\n",
              "      <td>2012</td>\n",
              "      <td>NaN</td>\n",
              "      <td>San Francisco</td>\n",
              "      <td>NaN</td>\n",
              "    </tr>\n",
              "    <tr>\n",
              "      <th>36478</th>\n",
              "      <td>36479</td>\n",
              "      <td>David Kucia</td>\n",
              "      <td>Police Officer 3</td>\n",
              "      <td>99304.33</td>\n",
              "      <td>18181.32</td>\n",
              "      <td>111506.56</td>\n",
              "      <td>27819.75</td>\n",
              "      <td>228992.21</td>\n",
              "      <td>256811.96</td>\n",
              "      <td>2012</td>\n",
              "      <td>NaN</td>\n",
              "      <td>San Francisco</td>\n",
              "      <td>NaN</td>\n",
              "    </tr>\n",
              "    <tr>\n",
              "      <th>36527</th>\n",
              "      <td>36528</td>\n",
              "      <td>Ruby Martin</td>\n",
              "      <td>Registered Nurse</td>\n",
              "      <td>174044.89</td>\n",
              "      <td>949.50</td>\n",
              "      <td>19811.98</td>\n",
              "      <td>58670.20</td>\n",
              "      <td>194806.37</td>\n",
              "      <td>253476.57</td>\n",
              "      <td>2012</td>\n",
              "      <td>NaN</td>\n",
              "      <td>San Francisco</td>\n",
              "      <td>NaN</td>\n",
              "    </tr>\n",
              "    <tr>\n",
              "      <th>...</th>\n",
              "      <td>...</td>\n",
              "      <td>...</td>\n",
              "      <td>...</td>\n",
              "      <td>...</td>\n",
              "      <td>...</td>\n",
              "      <td>...</td>\n",
              "      <td>...</td>\n",
              "      <td>...</td>\n",
              "      <td>...</td>\n",
              "      <td>...</td>\n",
              "      <td>...</td>\n",
              "      <td>...</td>\n",
              "      <td>...</td>\n",
              "    </tr>\n",
              "    <tr>\n",
              "      <th>148610</th>\n",
              "      <td>148611</td>\n",
              "      <td>Ruby S Martin</td>\n",
              "      <td>Special Nurse</td>\n",
              "      <td>21.22</td>\n",
              "      <td>0.00</td>\n",
              "      <td>0.00</td>\n",
              "      <td>4.99</td>\n",
              "      <td>21.22</td>\n",
              "      <td>26.21</td>\n",
              "      <td>2014</td>\n",
              "      <td>NaN</td>\n",
              "      <td>San Francisco</td>\n",
              "      <td>PT</td>\n",
              "    </tr>\n",
              "    <tr>\n",
              "      <th>148613</th>\n",
              "      <td>148614</td>\n",
              "      <td>Nanette M Lloyd</td>\n",
              "      <td>Special Nurse</td>\n",
              "      <td>19.97</td>\n",
              "      <td>0.00</td>\n",
              "      <td>0.00</td>\n",
              "      <td>4.30</td>\n",
              "      <td>19.97</td>\n",
              "      <td>24.27</td>\n",
              "      <td>2014</td>\n",
              "      <td>NaN</td>\n",
              "      <td>San Francisco</td>\n",
              "      <td>PT</td>\n",
              "    </tr>\n",
              "    <tr>\n",
              "      <th>148615</th>\n",
              "      <td>148616</td>\n",
              "      <td>Marilou P Gan</td>\n",
              "      <td>Registered Nurse</td>\n",
              "      <td>0.00</td>\n",
              "      <td>0.00</td>\n",
              "      <td>19.27</td>\n",
              "      <td>3.97</td>\n",
              "      <td>19.27</td>\n",
              "      <td>23.24</td>\n",
              "      <td>2014</td>\n",
              "      <td>NaN</td>\n",
              "      <td>San Francisco</td>\n",
              "      <td>PT</td>\n",
              "    </tr>\n",
              "    <tr>\n",
              "      <th>148621</th>\n",
              "      <td>148622</td>\n",
              "      <td>Kenneth Mackey</td>\n",
              "      <td>Transit Operator</td>\n",
              "      <td>0.00</td>\n",
              "      <td>0.00</td>\n",
              "      <td>15.35</td>\n",
              "      <td>0.00</td>\n",
              "      <td>15.35</td>\n",
              "      <td>15.35</td>\n",
              "      <td>2014</td>\n",
              "      <td>NaN</td>\n",
              "      <td>San Francisco</td>\n",
              "      <td>PT</td>\n",
              "    </tr>\n",
              "    <tr>\n",
              "      <th>148625</th>\n",
              "      <td>148626</td>\n",
              "      <td>Renato C Gurion</td>\n",
              "      <td>Registered Nurse</td>\n",
              "      <td>0.00</td>\n",
              "      <td>0.00</td>\n",
              "      <td>6.00</td>\n",
              "      <td>1.24</td>\n",
              "      <td>6.00</td>\n",
              "      <td>7.24</td>\n",
              "      <td>2014</td>\n",
              "      <td>NaN</td>\n",
              "      <td>San Francisco</td>\n",
              "      <td>PT</td>\n",
              "    </tr>\n",
              "  </tbody>\n",
              "</table>\n",
              "<p>20007 rows × 13 columns</p>\n",
              "</div>"
            ],
            "text/plain": [
              "            Id        EmployeeName  ...         Agency  Status\n",
              "36314    36315           Eric Neff  ...  San Francisco     NaN\n",
              "36317    36318      Timothy Gibson  ...  San Francisco     NaN\n",
              "36349    36350  Constantine Zachos  ...  San Francisco     NaN\n",
              "36478    36479         David Kucia  ...  San Francisco     NaN\n",
              "36527    36528         Ruby Martin  ...  San Francisco     NaN\n",
              "...        ...                 ...  ...            ...     ...\n",
              "148610  148611       Ruby S Martin  ...  San Francisco      PT\n",
              "148613  148614     Nanette M Lloyd  ...  San Francisco      PT\n",
              "148615  148616       Marilou P Gan  ...  San Francisco      PT\n",
              "148621  148622      Kenneth Mackey  ...  San Francisco      PT\n",
              "148625  148626     Renato C Gurion  ...  San Francisco      PT\n",
              "\n",
              "[20007 rows x 13 columns]"
            ]
          },
          "metadata": {
            "tags": []
          },
          "execution_count": 33
        }
      ]
    },
    {
      "cell_type": "code",
      "metadata": {
        "id": "gnCyojm6YrLg",
        "colab": {
          "base_uri": "https://localhost:8080/"
        },
        "outputId": "bdcdf492-f94b-4d97-d613-2e81b92ed899"
      },
      "source": [
        "top5mostcommonjobtitles_2011 = top5mostcommonjobtitles.iloc[(top5mostcommonjobtitles['Year'] == 2011).values]\n",
        "top5mostcommonjobtitles_2011.info()"
      ],
      "execution_count": null,
      "outputs": [
        {
          "output_type": "stream",
          "text": [
            "<class 'pandas.core.frame.DataFrame'>\n",
            "Int64Index: 0 entries\n",
            "Data columns (total 13 columns):\n",
            " #   Column            Non-Null Count  Dtype  \n",
            "---  ------            --------------  -----  \n",
            " 0   Id                0 non-null      int64  \n",
            " 1   EmployeeName      0 non-null      object \n",
            " 2   JobTitle          0 non-null      object \n",
            " 3   BasePay           0 non-null      float64\n",
            " 4   OvertimePay       0 non-null      float64\n",
            " 5   OtherPay          0 non-null      float64\n",
            " 6   Benefits          0 non-null      float64\n",
            " 7   TotalPay          0 non-null      float64\n",
            " 8   TotalPayBenefits  0 non-null      float64\n",
            " 9   Year              0 non-null      int64  \n",
            " 10  Notes             0 non-null      float64\n",
            " 11  Agency            0 non-null      object \n",
            " 12  Status            0 non-null      object \n",
            "dtypes: float64(7), int64(2), object(4)\n",
            "memory usage: 0.0+ bytes\n"
          ],
          "name": "stdout"
        }
      ]
    },
    {
      "cell_type": "code",
      "metadata": {
        "id": "aL3uNK9tZNr7",
        "colab": {
          "base_uri": "https://localhost:8080/"
        },
        "outputId": "0a67f1a0-d1c2-4a72-a782-9cfd835e0715"
      },
      "source": [
        "top5mostcommonjobtitles_2012 = top5mostcommonjobtitles.iloc[(top5mostcommonjobtitles['Year'] == 2012).values]\n",
        "top5mostcommonjobtitles_2012.info()"
      ],
      "execution_count": null,
      "outputs": [
        {
          "output_type": "stream",
          "text": [
            "<class 'pandas.core.frame.DataFrame'>\n",
            "Int64Index: 6606 entries, 36314 to 72924\n",
            "Data columns (total 13 columns):\n",
            " #   Column            Non-Null Count  Dtype  \n",
            "---  ------            --------------  -----  \n",
            " 0   Id                6606 non-null   int64  \n",
            " 1   EmployeeName      6606 non-null   object \n",
            " 2   JobTitle          6606 non-null   object \n",
            " 3   BasePay           6606 non-null   float64\n",
            " 4   OvertimePay       6606 non-null   float64\n",
            " 5   OtherPay          6606 non-null   float64\n",
            " 6   Benefits          6606 non-null   float64\n",
            " 7   TotalPay          6606 non-null   float64\n",
            " 8   TotalPayBenefits  6606 non-null   float64\n",
            " 9   Year              6606 non-null   int64  \n",
            " 10  Notes             0 non-null      float64\n",
            " 11  Agency            6606 non-null   object \n",
            " 12  Status            0 non-null      object \n",
            "dtypes: float64(7), int64(2), object(4)\n",
            "memory usage: 722.5+ KB\n"
          ],
          "name": "stdout"
        }
      ]
    },
    {
      "cell_type": "code",
      "metadata": {
        "id": "kIXzfs_yZTQ-",
        "colab": {
          "base_uri": "https://localhost:8080/"
        },
        "outputId": "152bb268-390d-433d-99eb-0e4edbd91e77"
      },
      "source": [
        "top5mostcommonjobtitles_2013 = top5mostcommonjobtitles.iloc[(top5mostcommonjobtitles['Year'] == 2013).values]\n",
        "top5mostcommonjobtitles_2013.info()"
      ],
      "execution_count": null,
      "outputs": [
        {
          "output_type": "stream",
          "text": [
            "<class 'pandas.core.frame.DataFrame'>\n",
            "Int64Index: 6511 entries, 73161 to 110513\n",
            "Data columns (total 13 columns):\n",
            " #   Column            Non-Null Count  Dtype  \n",
            "---  ------            --------------  -----  \n",
            " 0   Id                6511 non-null   int64  \n",
            " 1   EmployeeName      6511 non-null   object \n",
            " 2   JobTitle          6511 non-null   object \n",
            " 3   BasePay           6511 non-null   float64\n",
            " 4   OvertimePay       6511 non-null   float64\n",
            " 5   OtherPay          6511 non-null   float64\n",
            " 6   Benefits          6511 non-null   float64\n",
            " 7   TotalPay          6511 non-null   float64\n",
            " 8   TotalPayBenefits  6511 non-null   float64\n",
            " 9   Year              6511 non-null   int64  \n",
            " 10  Notes             0 non-null      float64\n",
            " 11  Agency            6511 non-null   object \n",
            " 12  Status            0 non-null      object \n",
            "dtypes: float64(7), int64(2), object(4)\n",
            "memory usage: 712.1+ KB\n"
          ],
          "name": "stdout"
        }
      ]
    },
    {
      "cell_type": "code",
      "metadata": {
        "id": "Ja3WGZrBZXF2",
        "colab": {
          "base_uri": "https://localhost:8080/"
        },
        "outputId": "c3cccbc2-93d2-4c88-9b61-44be1a689721"
      },
      "source": [
        "top5mostcommonjobtitles_2014 = top5mostcommonjobtitles.iloc[(top5mostcommonjobtitles['Year'] == 2014).values]\n",
        "top5mostcommonjobtitles_2014.info()"
      ],
      "execution_count": null,
      "outputs": [
        {
          "output_type": "stream",
          "text": [
            "<class 'pandas.core.frame.DataFrame'>\n",
            "Int64Index: 6890 entries, 110617 to 148625\n",
            "Data columns (total 13 columns):\n",
            " #   Column            Non-Null Count  Dtype  \n",
            "---  ------            --------------  -----  \n",
            " 0   Id                6890 non-null   int64  \n",
            " 1   EmployeeName      6890 non-null   object \n",
            " 2   JobTitle          6890 non-null   object \n",
            " 3   BasePay           6890 non-null   float64\n",
            " 4   OvertimePay       6890 non-null   float64\n",
            " 5   OtherPay          6890 non-null   float64\n",
            " 6   Benefits          6890 non-null   float64\n",
            " 7   TotalPay          6890 non-null   float64\n",
            " 8   TotalPayBenefits  6890 non-null   float64\n",
            " 9   Year              6890 non-null   int64  \n",
            " 10  Notes             0 non-null      float64\n",
            " 11  Agency            6890 non-null   object \n",
            " 12  Status            6890 non-null   object \n",
            "dtypes: float64(7), int64(2), object(4)\n",
            "memory usage: 753.6+ KB\n"
          ],
          "name": "stdout"
        }
      ]
    },
    {
      "cell_type": "code",
      "metadata": {
        "id": "PEuNml93Zu_S",
        "colab": {
          "base_uri": "https://localhost:8080/"
        },
        "outputId": "7dbda514-00c2-4299-d7a8-31bc2be9f966"
      },
      "source": [
        "stats.ttest_ind(top5mostcommonjobtitles_2012['TotalPay'],top5mostcommonjobtitles_2013['TotalPay'])"
      ],
      "execution_count": null,
      "outputs": [
        {
          "output_type": "execute_result",
          "data": {
            "text/plain": [
              "Ttest_indResult(statistic=-3.3611868322096026, pvalue=0.0007782990707349887)"
            ]
          },
          "metadata": {
            "tags": []
          },
          "execution_count": 38
        }
      ]
    },
    {
      "cell_type": "code",
      "metadata": {
        "id": "U4NzrCAmZj_o",
        "colab": {
          "base_uri": "https://localhost:8080/"
        },
        "outputId": "144da41b-f247-4951-f856-afda49ffb3d3"
      },
      "source": [
        "stats.ttest_ind(top5mostcommonjobtitles_2013['TotalPay'],top5mostcommonjobtitles_2014['TotalPay'])"
      ],
      "execution_count": null,
      "outputs": [
        {
          "output_type": "execute_result",
          "data": {
            "text/plain": [
              "Ttest_indResult(statistic=5.137402086433636, pvalue=2.82475577267574e-07)"
            ]
          },
          "metadata": {
            "tags": []
          },
          "execution_count": 39
        }
      ]
    },
    {
      "cell_type": "code",
      "metadata": {
        "id": "TfrlbU-rbUou",
        "colab": {
          "base_uri": "https://localhost:8080/"
        },
        "outputId": "0dc41b22-7837-4f90-eeb2-450c579207b2"
      },
      "source": [
        "stats.ttest_ind(top5mostcommonjobtitles_2012['TotalPay'],top5mostcommonjobtitles_2014['TotalPay'])"
      ],
      "execution_count": null,
      "outputs": [
        {
          "output_type": "execute_result",
          "data": {
            "text/plain": [
              "Ttest_indResult(statistic=1.8789540524138946, pvalue=0.0602723037973523)"
            ]
          },
          "metadata": {
            "tags": []
          },
          "execution_count": 40
        }
      ]
    },
    {
      "cell_type": "code",
      "metadata": {
        "id": "Ykx1lefUabWE",
        "colab": {
          "base_uri": "https://localhost:8080/"
        },
        "outputId": "066bdbb0-ce09-4314-c91c-434639ef8654"
      },
      "source": [
        "top5mostcommonjobtitles_2012['TotalPay'].mean()"
      ],
      "execution_count": null,
      "outputs": [
        {
          "output_type": "execute_result",
          "data": {
            "text/plain": [
              "68569.42554647273"
            ]
          },
          "metadata": {
            "tags": []
          },
          "execution_count": 41
        }
      ]
    },
    {
      "cell_type": "code",
      "metadata": {
        "id": "lHRl1iE2aiGE",
        "colab": {
          "base_uri": "https://localhost:8080/"
        },
        "outputId": "9de477e4-8aed-414d-f75e-4d8c26dbb35e"
      },
      "source": [
        "top5mostcommonjobtitles_2013['TotalPay'].mean()"
      ],
      "execution_count": null,
      "outputs": [
        {
          "output_type": "execute_result",
          "data": {
            "text/plain": [
              "71593.31013822755"
            ]
          },
          "metadata": {
            "tags": []
          },
          "execution_count": 42
        }
      ]
    },
    {
      "cell_type": "code",
      "metadata": {
        "id": "A5O29tB1alJu",
        "colab": {
          "base_uri": "https://localhost:8080/"
        },
        "outputId": "04c8e6a5-b539-4d9f-fa8e-2a8e296c642c"
      },
      "source": [
        "top5mostcommonjobtitles_2014['TotalPay'].mean()"
      ],
      "execution_count": null,
      "outputs": [
        {
          "output_type": "execute_result",
          "data": {
            "text/plain": [
              "66906.14685050717"
            ]
          },
          "metadata": {
            "tags": []
          },
          "execution_count": 43
        }
      ]
    },
    {
      "cell_type": "code",
      "metadata": {
        "id": "DKGuHD4hapCF",
        "colab": {
          "base_uri": "https://localhost:8080/",
          "height": 265
        },
        "outputId": "2e867770-243c-4c81-a529-7c8b6e7f21da"
      },
      "source": [
        "sns.barplot(y=[top5mostcommonjobtitles_2012['TotalPay'].mean(),\n",
        "               top5mostcommonjobtitles_2013['TotalPay'].mean(),\n",
        "               top5mostcommonjobtitles_2014['TotalPay'].mean()],\n",
        "            x=[2012,2013,2014])\n",
        "\n",
        "plt.show()"
      ],
      "execution_count": null,
      "outputs": [
        {
          "output_type": "display_data",
          "data": {
            "image/png": "[encoded data removed]",
            "text/plain": [
              "<Figure size 432x288 with 1 Axes>"
            ]
          },
          "metadata": {
            "tags": [],
            "needs_background": "light"
          }
        }
      ]
    },
    {
      "cell_type": "markdown",
      "metadata": {
        "id": "ziDHVULTbVzP"
      },
      "source": [
        "This graph shows the mean of total pay for top 5 most common job titles in the data set. The mean total pay is the highest in 2013. From 2012 to 2014, there is a slight decrease."
      ]
    },
    {
      "cell_type": "markdown",
      "metadata": {
        "id": "tNCY07GzfKkw"
      },
      "source": [
        "**Conclusion**: All total pay for the top 5 most popular jobs have increased but not by a lot. The number increase from 2012 to 2013 but decrease from 2013 to 2014. Moreover, comparing 2012 to 2014 the value did not change much and the p value is greater than 0.05 hence there is no enough evidence to reject the null hyphothesis."
      ]
    },
    {
      "cell_type": "markdown",
      "metadata": {
        "id": "fcV5k89_gf3V"
      },
      "source": [
        "**Final recommendation**: In San Francisco, overall people's salary increase overtime, however it was not driven by the top five most common job in San Francisco. For company hiring manager trying to figure out the pay scale within the company, they should be expecting an increase of salary across the board but not  for certain occupation such as nurse and public service workers such as transit operator or police."
      ]
    }
  ]
}